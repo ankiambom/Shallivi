{
 "cells": [
  {
   "cell_type": "code",
   "execution_count": 5,
   "id": "82139d09-4f71-4f24-bb38-6fe76e6f7a53",
   "metadata": {},
   "outputs": [
    {
     "data": {
      "text/html": [
       "<div>\n",
       "<style scoped>\n",
       "    .dataframe tbody tr th:only-of-type {\n",
       "        vertical-align: middle;\n",
       "    }\n",
       "\n",
       "    .dataframe tbody tr th {\n",
       "        vertical-align: top;\n",
       "    }\n",
       "\n",
       "    .dataframe thead th {\n",
       "        text-align: right;\n",
       "    }\n",
       "</style>\n",
       "<table border=\"1\" class=\"dataframe\">\n",
       "  <thead>\n",
       "    <tr style=\"text-align: right;\">\n",
       "      <th></th>\n",
       "      <th>Name</th>\n",
       "      <th>Age</th>\n",
       "      <th>Score</th>\n",
       "      <th>Subject</th>\n",
       "    </tr>\n",
       "  </thead>\n",
       "  <tbody>\n",
       "    <tr>\n",
       "      <th>0</th>\n",
       "      <td>Alice</td>\n",
       "      <td>22</td>\n",
       "      <td>85</td>\n",
       "      <td>maths</td>\n",
       "    </tr>\n",
       "    <tr>\n",
       "      <th>1</th>\n",
       "      <td>Bob</td>\n",
       "      <td>25</td>\n",
       "      <td>90</td>\n",
       "      <td>maths</td>\n",
       "    </tr>\n",
       "    <tr>\n",
       "      <th>2</th>\n",
       "      <td>Charlie</td>\n",
       "      <td>19</td>\n",
       "      <td>78</td>\n",
       "      <td>Science</td>\n",
       "    </tr>\n",
       "    <tr>\n",
       "      <th>3</th>\n",
       "      <td>Diana</td>\n",
       "      <td>30</td>\n",
       "      <td>92</td>\n",
       "      <td>Science</td>\n",
       "    </tr>\n",
       "    <tr>\n",
       "      <th>4</th>\n",
       "      <td>Alice</td>\n",
       "      <td>22</td>\n",
       "      <td>88</td>\n",
       "      <td>Science</td>\n",
       "    </tr>\n",
       "    <tr>\n",
       "      <th>5</th>\n",
       "      <td>Bob</td>\n",
       "      <td>25</td>\n",
       "      <td>95</td>\n",
       "      <td>Science</td>\n",
       "    </tr>\n",
       "    <tr>\n",
       "      <th>6</th>\n",
       "      <td>Charlie</td>\n",
       "      <td>19</td>\n",
       "      <td>80</td>\n",
       "      <td>maths</td>\n",
       "    </tr>\n",
       "    <tr>\n",
       "      <th>7</th>\n",
       "      <td>Diana</td>\n",
       "      <td>30</td>\n",
       "      <td>85</td>\n",
       "      <td>maths</td>\n",
       "    </tr>\n",
       "  </tbody>\n",
       "</table>\n",
       "</div>"
      ],
      "text/plain": [
       "      Name  Age  Score  Subject\n",
       "0    Alice   22     85    maths\n",
       "1      Bob   25     90    maths\n",
       "2  Charlie   19     78  Science\n",
       "3    Diana   30     92  Science\n",
       "4    Alice   22     88  Science\n",
       "5      Bob   25     95  Science\n",
       "6  Charlie   19     80    maths\n",
       "7    Diana   30     85    maths"
      ]
     },
     "execution_count": 5,
     "metadata": {},
     "output_type": "execute_result"
    }
   ],
   "source": [
    "# Here i have import my libarary\n",
    "import pandas as pd\n",
    "import numpy as np\n",
    "\n",
    "#Loading of data set\n",
    "df = pd.read_csv(\"student_data.csv\")\n",
    "df.head(8)"
   ]
  },
  {
   "cell_type": "code",
   "execution_count": 7,
   "id": "a92e858b-2f7a-4ffe-b791-5e0d07c02acc",
   "metadata": {},
   "outputs": [
    {
     "name": "stdout",
     "output_type": "stream",
     "text": [
      "Missing values in 'Score' before: 0\n"
     ]
    }
   ],
   "source": [
    "\n",
    "\n",
    "# Check for missing values in the 'Score' column\n",
    "print(\"Missing values in 'Score' before:\", df['Score'].isnull().sum())\n",
    "\n"
   ]
  },
  {
   "cell_type": "code",
   "execution_count": 9,
   "id": "116bea4b-d23f-4872-9ce9-8572cdc730c4",
   "metadata": {},
   "outputs": [],
   "source": [
    "# Compute the median score\n",
    "median_score = df['Score'].median()\n",
    "\n",
    "\n"
   ]
  },
  {
   "cell_type": "code",
   "execution_count": 11,
   "id": "478900d8-2f9f-4103-81b0-cb1c6dcb889e",
   "metadata": {},
   "outputs": [
    {
     "name": "stdout",
     "output_type": "stream",
     "text": [
      "Missing values in 'Score' after: 0\n",
      "      Name  Age  Score  Subject Grade\n",
      "0    Alice   22     85    maths     B\n",
      "1      Bob   25     90    maths     A\n",
      "2  Charlie   19     78  Science     C\n",
      "3    Diana   30     92  Science     A\n",
      "4    Alice   22     88  Science     B\n",
      "5      Bob   25     95  Science     A\n",
      "6  Charlie   19     80    maths     B\n",
      "7    Diana   30     85    maths     B\n"
     ]
    },
    {
     "name": "stderr",
     "output_type": "stream",
     "text": [
      "C:\\Users\\ankia\\AppData\\Local\\Temp\\ipykernel_8956\\3022076779.py:2: FutureWarning: A value is trying to be set on a copy of a DataFrame or Series through chained assignment using an inplace method.\n",
      "The behavior will change in pandas 3.0. This inplace method will never work because the intermediate object on which we are setting values always behaves as a copy.\n",
      "\n",
      "For example, when doing 'df[col].method(value, inplace=True)', try using 'df.method({col: value}, inplace=True)' or df[col] = df[col].method(value) instead, to perform the operation inplace on the original object.\n",
      "\n",
      "\n",
      "  df['Score'].fillna(median_score, inplace=True)\n"
     ]
    }
   ],
   "source": [
    "# Fill missing values with the median\n",
    "df['Score'].fillna(median_score, inplace=True)\n",
    "\n",
    "# Optionally, reassign grades if needed\n",
    "def assign_grade(score):\n",
    "    if score >= 90:\n",
    "        return 'A'\n",
    "    elif score >= 80:\n",
    "        return 'B'\n",
    "    elif score >= 70:\n",
    "        return 'C'\n",
    "    else:\n",
    "        return 'D'\n",
    "\n",
    "df['Grade'] = df['Score'].apply(assign_grade)\n",
    "\n",
    "# Confirm missing values are filled\n",
    "print(\"Missing values in 'Score' after:\", df['Score'].isnull().sum())\n",
    "\n",
    "# Display the updated DataFrame\n",
    "print(df.head(8))"
   ]
  },
  {
   "cell_type": "code",
   "execution_count": 17,
   "id": "830ddf04-3d44-46a1-aca8-22475d17931b",
   "metadata": {},
   "outputs": [],
   "source": [
    "# Save the cleaned DataFrame to a new CSV file\n",
    "df.to_csv('cleaned_student_data.csv', index=False)\n"
   ]
  },
  {
   "cell_type": "raw",
   "id": "2805c6f5-6d0d-4139-847d-97574790acc8",
   "metadata": {},
   "source": []
  },
  {
   "cell_type": "code",
   "execution_count": null,
   "id": "d2f508c3-ad43-4704-9d51-a2b9e74c8c5a",
   "metadata": {},
   "outputs": [],
   "source": []
  }
 ],
 "metadata": {
  "kernelspec": {
   "display_name": "Python [conda env:base] *",
   "language": "python",
   "name": "conda-base-py"
  },
  "language_info": {
   "codemirror_mode": {
    "name": "ipython",
    "version": 3
   },
   "file_extension": ".py",
   "mimetype": "text/x-python",
   "name": "python",
   "nbconvert_exporter": "python",
   "pygments_lexer": "ipython3",
   "version": "3.12.7"
  }
 },
 "nbformat": 4,
 "nbformat_minor": 5
}
