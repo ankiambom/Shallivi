{
 "cells": [
  {
   "cell_type": "code",
   "execution_count": 28,
   "id": "a0183690-268d-4fc3-b103-82140454a807",
   "metadata": {},
   "outputs": [
    {
     "name": "stdout",
     "output_type": "stream",
     "text": [
      "   Subject  Mean_Score  Std_Deviation\n",
      "0  Science       88.25       7.410578\n",
      "1    maths       85.00       4.082483\n"
     ]
    }
   ],
   "source": [
    "import pandas as pd\n",
    "import numpy as np\n",
    "\n",
    "# Load the CSV file\n",
    "df = pd.read_csv('student_data.csv')\n",
    "\n",
    "# Group by Subject and calculate mean and standard deviation of Score\n",
    "summary_stats = df.groupby('Subject')['Score'].agg(['mean', 'std']).reset_index()\n",
    "\n",
    "# Rename columns for clarity (optional)\n",
    "summary_stats.columns = ['Subject', 'Mean_Score', 'Std_Deviation']\n",
    "\n",
    "print(summary_stats)\n"
   ]
  },
  {
   "cell_type": "code",
   "execution_count": 16,
   "id": "f3c6d1ea-1a0e-4ec7-acb4-8eb628188c08",
   "metadata": {},
   "outputs": [
    {
     "name": "stdout",
     "output_type": "stream",
     "text": [
      "  Name  Age  Score  Subject\n",
      "0  Bob   25     95  Science\n",
      "1  Bob   25     90    maths\n"
     ]
    }
   ],
   "source": [
    "\n",
    "# Load the data\n",
    "df = pd.read_csv('student_data.csv')\n",
    "\n",
    "# Find the top student for each subject\n",
    "top_students = df.loc[df.groupby('Subject')['Score'].idxmax()].reset_index(drop=True)\n",
    "\n",
    "print(top_students)\n"
   ]
  },
  {
   "cell_type": "code",
   "execution_count": 22,
   "id": "4cb00935-a800-44ee-a84b-6c1555a7976d",
   "metadata": {},
   "outputs": [
    {
     "name": "stdout",
     "output_type": "stream",
     "text": [
      "                 Score  Attendance\n",
      "Subject Name                      \n",
      "maths   Alice       85          92\n",
      "        Bob         90          95\n",
      "Science Charlie     78          80\n",
      "        Diana       92          83\n",
      "        Alice       88          83\n",
      "        Bob         95          87\n",
      "maths   Charlie     80          89\n",
      "        Diana       85          99\n"
     ]
    }
   ],
   "source": [
    "\n",
    "# Load the CSV file\n",
    "df = pd.read_csv('student_data.csv')\n",
    "\n",
    "# Generate random Attendance values between 80 and 100\n",
    "np.random.seed(0)  # Optional: for reproducibility\n",
    "df['Attendance'] = np.random.randint(80, 101, size=len(df))\n",
    "\n",
    "# Set MultiIndex with Subject and Name\n",
    "multiindex_df = df.set_index(['Subject', 'Name'])[['Score', 'Attendance']]\n",
    "\n",
    "print(multiindex_df)\n"
   ]
  },
  {
   "cell_type": "code",
   "execution_count": 32,
   "id": "6dad60de-36ae-414e-8b5b-4a3c457a6c1a",
   "metadata": {},
   "outputs": [
    {
     "name": "stdout",
     "output_type": "stream",
     "text": [
      "      Name  Average_Score\n",
      "0    Alice           86.5\n",
      "1      Bob           92.5\n",
      "2  Charlie           79.0\n",
      "3    Diana           88.5\n"
     ]
    }
   ],
   "source": [
    "\n",
    "# Load the data\n",
    "df = pd.read_csv('student_data.csv')\n",
    "\n",
    "# Group by Name and calculate average Score\n",
    "average_scores = df.groupby('Name')['Score'].mean().reset_index()\n",
    "\n",
    "# Optional: rename column for clarity\n",
    "average_scores.columns = ['Name', 'Average_Score']\n",
    "\n",
    "print(average_scores)\n"
   ]
  },
  {
   "cell_type": "code",
   "execution_count": 34,
   "id": "7b6f91d9-f354-4740-bd18-18ed285f4bd3",
   "metadata": {},
   "outputs": [
    {
     "name": "stdout",
     "output_type": "stream",
     "text": [
      "Subject  Science  maths\n",
      "Name                   \n",
      "Alice       88.0   85.0\n",
      "Bob         95.0   90.0\n",
      "Charlie     78.0   80.0\n",
      "Diana       92.0   85.0\n"
     ]
    }
   ],
   "source": [
    "\n",
    "# Load the CSV file\n",
    "df = pd.read_csv('student_data.csv')\n",
    "\n",
    "# Create pivot table\n",
    "pivot_table = df.pivot_table(index='Name', columns='Subject', values='Score')\n",
    "\n",
    "print(pivot_table)\n"
   ]
  },
  {
   "cell_type": "code",
   "execution_count": 36,
   "id": "081c961d-3190-4a09-af0f-d3f833a65dc5",
   "metadata": {},
   "outputs": [
    {
     "name": "stdout",
     "output_type": "stream",
     "text": [
      "      Name  Subject  Score\n",
      "0    Alice  Science   88.0\n",
      "1      Bob  Science   95.0\n",
      "2  Charlie  Science   78.0\n",
      "3    Diana  Science   92.0\n",
      "4    Alice    maths   85.0\n",
      "5      Bob    maths   90.0\n",
      "6  Charlie    maths   80.0\n",
      "7    Diana    maths   85.0\n"
     ]
    }
   ],
   "source": [
    "# Melt the pivot table\n",
    "melted_df = pivot_table.reset_index().melt(id_vars='Name', \n",
    "                                            var_name='Subject', \n",
    "                                            value_name='Score')\n",
    "\n",
    "print(melted_df)\n"
   ]
  },
  {
   "cell_type": "code",
   "execution_count": 38,
   "id": "cb6da387-22c0-446c-9fc6-0dfbf5e729e9",
   "metadata": {},
   "outputs": [
    {
     "name": "stdout",
     "output_type": "stream",
     "text": [
      "         Date  Sales\n",
      "0  2025-01-01    272\n",
      "1  2025-01-02    147\n",
      "2  2025-01-03    217\n",
      "3  2025-01-04    292\n",
      "4  2025-01-05    423\n",
      "5  2025-01-06    351\n",
      "6  2025-01-07    295\n",
      "7  2025-01-08    459\n",
      "8  2025-01-09    109\n",
      "9  2025-01-10    311\n",
      "10 2025-01-11    377\n",
      "11 2025-01-12    342\n",
      "12 2025-01-13    392\n",
      "13 2025-01-14    187\n",
      "14 2025-01-15    170\n",
      "15 2025-01-16    188\n",
      "16 2025-01-17    496\n",
      "17 2025-01-18    414\n",
      "18 2025-01-19    293\n",
      "19 2025-01-20    139\n",
      "20 2025-01-21    187\n",
      "21 2025-01-22    274\n",
      "22 2025-01-23    188\n",
      "23 2025-01-24    437\n",
      "24 2025-01-25    265\n",
      "25 2025-01-26    125\n",
      "26 2025-01-27    433\n",
      "27 2025-01-28    172\n",
      "28 2025-01-29    365\n",
      "29 2025-01-30    215\n"
     ]
    }
   ],
   "source": [
    "\n",
    "# Create date range\n",
    "dates = pd.date_range(start='2025-01-01', periods=30, freq='D')\n",
    "\n",
    "# Generate random sales data\n",
    "np.random.seed(0)  # Optional: for reproducibility\n",
    "sales = np.random.randint(100, 501, size=30)\n",
    "\n",
    "# Create the DataFrame\n",
    "sales_df = pd.DataFrame({\n",
    "    'Date': dates,\n",
    "    'Sales': sales\n",
    "})\n",
    "\n",
    "print(sales_df)\n"
   ]
  },
  {
   "cell_type": "code",
   "execution_count": 40,
   "id": "1a78b013-042f-4b5f-87cd-bdaf36d111a5",
   "metadata": {},
   "outputs": [
    {
     "name": "stdout",
     "output_type": "stream",
     "text": [
      "            Sales\n",
      "Date             \n",
      "2025-01-05   1351\n",
      "2025-01-12   2244\n",
      "2025-01-19   2140\n",
      "2025-01-26   1615\n",
      "2025-02-02   1185\n"
     ]
    }
   ],
   "source": [
    "# Set Date as index\n",
    "sales_df.set_index('Date', inplace=True)\n",
    "\n",
    "# Resample to weekly frequency, summing Sales\n",
    "weekly_sales = sales_df.resample('W').sum()\n",
    "\n",
    "print(weekly_sales)\n"
   ]
  },
  {
   "cell_type": "code",
   "execution_count": 42,
   "id": "d9d7fbf9-5b0c-4539-ae76-e90e40e2c6dc",
   "metadata": {},
   "outputs": [
    {
     "name": "stdout",
     "output_type": "stream",
     "text": [
      "            Sales  7d_Rolling_Mean\n",
      "Date                              \n",
      "2025-01-01    272              NaN\n",
      "2025-01-02    147              NaN\n",
      "2025-01-03    217              NaN\n",
      "2025-01-04    292              NaN\n",
      "2025-01-05    423              NaN\n",
      "2025-01-06    351              NaN\n",
      "2025-01-07    295       285.285714\n",
      "2025-01-08    459       312.000000\n",
      "2025-01-09    109       306.571429\n",
      "2025-01-10    311       320.000000\n",
      "2025-01-11    377       332.142857\n",
      "2025-01-12    342       320.571429\n",
      "2025-01-13    392       326.428571\n",
      "2025-01-14    187       311.000000\n",
      "2025-01-15    170       269.714286\n",
      "2025-01-16    188       281.000000\n",
      "2025-01-17    496       307.428571\n",
      "2025-01-18    414       312.714286\n",
      "2025-01-19    293       305.714286\n",
      "2025-01-20    139       269.571429\n",
      "2025-01-21    187       269.571429\n",
      "2025-01-22    274       284.428571\n",
      "2025-01-23    188       284.428571\n",
      "2025-01-24    437       276.000000\n",
      "2025-01-25    265       254.714286\n",
      "2025-01-26    125       230.714286\n",
      "2025-01-27    433       272.714286\n",
      "2025-01-28    172       270.571429\n",
      "2025-01-29    365       283.571429\n",
      "2025-01-30    215       287.428571\n"
     ]
    }
   ],
   "source": [
    "# Assuming 'Date' is already the index and datetime type\n",
    "sales_df['7d_Rolling_Mean'] = sales_df['Sales'].rolling(window=7).mean()\n",
    "\n",
    "print(sales_df)\n"
   ]
  },
  {
   "cell_type": "code",
   "execution_count": null,
   "id": "fd456420-032b-4c02-ae58-e4b84fc0bcc1",
   "metadata": {},
   "outputs": [],
   "source": []
  }
 ],
 "metadata": {
  "kernelspec": {
   "display_name": "Python [conda env:base] *",
   "language": "python",
   "name": "conda-base-py"
  },
  "language_info": {
   "codemirror_mode": {
    "name": "ipython",
    "version": 3
   },
   "file_extension": ".py",
   "mimetype": "text/x-python",
   "name": "python",
   "nbconvert_exporter": "python",
   "pygments_lexer": "ipython3",
   "version": "3.12.7"
  }
 },
 "nbformat": 4,
 "nbformat_minor": 5
}
