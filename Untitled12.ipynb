{
 "cells": [
  {
   "cell_type": "code",
   "execution_count": 1,
   "id": "4a20fa8a-2a22-48a7-8898-725e850d1919",
   "metadata": {},
   "outputs": [
    {
     "name": "stdout",
     "output_type": "stream",
     "text": [
      "0    67\n",
      "1    90\n",
      "2    90\n",
      "3    61\n",
      "4    51\n",
      "5    99\n",
      "6    70\n",
      "7    89\n",
      "8    53\n",
      "9    71\n",
      "dtype: int32\n"
     ]
    }
   ],
   "source": [
    "import pandas as pd\n",
    "import numpy as np\n",
    "\n",
    "# Generate 10 random integers between 50 and 100\n",
    "random_numbers = np.random.randint(50, 100, 10)\n",
    "\n",
    "# Create a Pandas Series\n",
    "series = pd.Series(random_numbers)\n",
    "\n",
    "# Display the Series\n",
    "print(series)\n"
   ]
  },
  {
   "cell_type": "code",
   "execution_count": 3,
   "id": "025cdd25-d56a-4171-a9e5-b7e017e8668f",
   "metadata": {},
   "outputs": [
    {
     "name": "stdout",
     "output_type": "stream",
     "text": [
      "2025-01-01    82\n",
      "2025-01-02    80\n",
      "2025-01-03    73\n",
      "2025-01-04    75\n",
      "2025-01-05    99\n",
      "2025-01-06    94\n",
      "2025-01-07    87\n",
      "2025-01-08    78\n",
      "2025-01-09    50\n",
      "2025-01-10    68\n",
      "Freq: D, dtype: int32\n"
     ]
    }
   ],
   "source": [
    "# Generate 10 random integers between 50 and 100\n",
    "random_numbers = np.random.randint(50, 100, 10)\n",
    "\n",
    "# Create a date range with 10 dates starting from 2025-01-01\n",
    "date_index = pd.date_range('2025-01-01', periods=10)\n",
    "\n",
    "# Create the Pandas Series with custom date index\n",
    "series = pd.Series(random_numbers, index=date_index)\n",
    "\n",
    "# Display the Series\n",
    "print(series)"
   ]
  },
  {
   "cell_type": "code",
   "execution_count": 5,
   "id": "9586b548-02ee-479a-a5b1-f92663a80322",
   "metadata": {},
   "outputs": [
    {
     "name": "stdout",
     "output_type": "stream",
     "text": [
      "Filtered values > 75:\n",
      "2025-01-01    82\n",
      "2025-01-02    80\n",
      "2025-01-05    99\n",
      "2025-01-06    94\n",
      "2025-01-07    87\n",
      "2025-01-08    78\n",
      "dtype: int32\n",
      "\n",
      "Mean of filtered values: 86.66666666666667\n"
     ]
    }
   ],
   "source": [
    "# Filter values greater than 75\n",
    "filtered_values = series[series > 75]\n",
    "\n",
    "# Compute the mean of the filtered values\n",
    "mean_value = filtered_values.mean()\n",
    "\n",
    "# Display results\n",
    "print(\"Filtered values > 75:\")\n",
    "print(filtered_values)\n",
    "print(\"\\nMean of filtered values:\", mean_value)"
   ]
  },
  {
   "cell_type": "code",
   "execution_count": 7,
   "id": "a8c80730-5cda-475d-92e5-28b071a4541d",
   "metadata": {},
   "outputs": [
    {
     "name": "stdout",
     "output_type": "stream",
     "text": [
      "   Student   Course  Score  Year\n",
      "0    Alice  Science     93  2025\n",
      "1      Bob  Science     76  2025\n",
      "2  Charlie  Science     62  2025\n",
      "3    David     Math     84  2025\n",
      "4      Eve  Science     98  2024\n"
     ]
    }
   ],
   "source": [
    "# Sample data\n",
    "students = ['Alice', 'Bob', 'Charlie', 'David', 'Eve']\n",
    "courses = ['Math', 'Science']\n",
    "years = [2024, 2025]\n",
    "\n",
    "# Create a DataFrame manually\n",
    "data = {\n",
    "    'Student': students,\n",
    "    'Course': np.random.choice(courses, size=5),\n",
    "    'Score': np.random.randint(60, 100, size=5),\n",
    "    'Year': np.random.choice(years, size=5)\n",
    "}\n",
    "\n",
    "df = pd.DataFrame(data)\n",
    "\n",
    "# Display the DataFrame\n",
    "print(df)"
   ]
  },
  {
   "cell_type": "code",
   "execution_count": 9,
   "id": "f4671508-0687-4b9a-886b-12fe915c9839",
   "metadata": {},
   "outputs": [
    {
     "name": "stdout",
     "output_type": "stream",
     "text": [
      "   Student   Course  Score  Year Grade\n",
      "0    Alice  Science     93  2025     A\n",
      "1      Bob  Science     76  2025     C\n",
      "2  Charlie  Science     62  2025     D\n",
      "3    David     Math     84  2025     B\n",
      "4      Eve  Science     98  2024     A\n"
     ]
    }
   ],
   "source": [
    "# Define a function to assign grades\n",
    "def assign_grade(score):\n",
    "    if score >= 90:\n",
    "        return 'A'\n",
    "    elif score >= 80:\n",
    "        return 'B'\n",
    "    elif score >= 70:\n",
    "        return 'C'\n",
    "    else:\n",
    "        return 'D'\n",
    "\n",
    "# Apply the function to create the Grade column\n",
    "df['Grade'] = df['Score'].apply(assign_grade)\n",
    "\n",
    "# Display the updated DataFrame\n",
    "print(df)\n"
   ]
  },
  {
   "cell_type": "code",
   "execution_count": 11,
   "id": "5398072a-4fac-4c50-9999-0be8908ec9c2",
   "metadata": {},
   "outputs": [
    {
     "name": "stdout",
     "output_type": "stream",
     "text": [
      "   Student   Course  Score  Year Grade\n",
      "4      Eve  Science     98  2024     A\n",
      "0    Alice  Science     93  2025     A\n",
      "3    David     Math     84  2025     B\n",
      "1      Bob  Science     76  2025     C\n",
      "2  Charlie  Science     62  2025     D\n"
     ]
    }
   ],
   "source": [
    "# Sort by Score in descending order\n",
    "df_sorted = df.sort_values(by='Score', ascending=False)\n",
    "\n",
    "# Display the sorted DataFrame\n",
    "print(df_sorted)\n"
   ]
  },
  {
   "cell_type": "code",
   "execution_count": null,
   "id": "58b9d684-3fdc-4313-aa68-3161c9ff2aaf",
   "metadata": {},
   "outputs": [],
   "source": []
  }
 ],
 "metadata": {
  "kernelspec": {
   "display_name": "Python [conda env:base] *",
   "language": "python",
   "name": "conda-base-py"
  },
  "language_info": {
   "codemirror_mode": {
    "name": "ipython",
    "version": 3
   },
   "file_extension": ".py",
   "mimetype": "text/x-python",
   "name": "python",
   "nbconvert_exporter": "python",
   "pygments_lexer": "ipython3",
   "version": "3.12.7"
  }
 },
 "nbformat": 4,
 "nbformat_minor": 5
}
