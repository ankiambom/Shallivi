{
 "cells": [
  {
   "cell_type": "code",
   "execution_count": null,
   "id": "535aed58-1818-4dd0-8fbe-b155ef0099da",
   "metadata": {},
   "outputs": [],
   "source": [
    "import numpy as np"
   ]
  },
  {
   "cell_type": "code",
   "execution_count": null,
   "id": "92943c3f-e477-4bdc-9d21-6892fd62e6c3",
   "metadata": {},
   "outputs": [],
   "source": [
    "a = np.array([1,2,3,])\n",
    "print(a)"
   ]
  },
  {
   "cell_type": "code",
   "execution_count": null,
   "id": "42657df6-c234-497d-879f-9a6c063b7432",
   "metadata": {},
   "outputs": [],
   "source": [
    "b = np.array([[9.0,8.0,7.0],[6.0,5.0,4.0]])\n",
    "print(b)"
   ]
  },
  {
   "cell_type": "code",
   "execution_count": null,
   "id": "b3a974a9-96f4-4493-9938-fac337fdcf94",
   "metadata": {},
   "outputs": [],
   "source": [
    "a.ndim"
   ]
  },
  {
   "cell_type": "code",
   "execution_count": null,
   "id": "b4fdf249-82b3-4b99-afe8-a797c42e3824",
   "metadata": {},
   "outputs": [],
   "source": [
    "a.shape"
   ]
  },
  {
   "cell_type": "code",
   "execution_count": null,
   "id": "8eda7072-6161-4613-bc70-1e21b4969a03",
   "metadata": {},
   "outputs": [],
   "source": [
    "name = input()"
   ]
  },
  {
   "cell_type": "code",
   "execution_count": null,
   "id": "0694fdd5-3eaa-4867-adc8-035e17a01212",
   "metadata": {},
   "outputs": [],
   "source": [
    "print(\"Hello, World!\")"
   ]
  },
  {
   "cell_type": "code",
   "execution_count": null,
   "id": "49161b32-b486-48f5-bfd2-90728add0f16",
   "metadata": {},
   "outputs": [],
   "source": [
    "print(\"I hope you are enjoying this workshop, \" + name + \"!\")"
   ]
  },
  {
   "cell_type": "code",
   "execution_count": null,
   "id": "93e19b80-774a-4494-b41c-0a61f4f73743",
   "metadata": {},
   "outputs": [],
   "source": [
    "name = \"Ankiambom\"\n",
    "print(f\"Hello, {name}!\")"
   ]
  },
  {
   "cell_type": "code",
   "execution_count": null,
   "id": "a1ff55c2-0f30-414f-afe8-fe962d317ddd",
   "metadata": {},
   "outputs": [],
   "source": [
    "print(f\"I hope you are enjoying this workshop, {name}!\")"
   ]
  },
  {
   "cell_type": "code",
   "execution_count": null,
   "id": "b3c2f506-08d0-491c-9b24-0ea27c8199db",
   "metadata": {},
   "outputs": [],
   "source": [
    "age = 25\n",
    "print(\"Age: \" + str(age))"
   ]
  },
  {
   "cell_type": "code",
   "execution_count": 58,
   "id": "207c06b8-c8e9-4140-99b8-29acd1debcb2",
   "metadata": {},
   "outputs": [
    {
     "name": "stdout",
     "output_type": "stream",
     "text": [
      "<class 'int'>\n"
     ]
    }
   ],
   "source": [
    "\n",
    "x = 20\n",
    "print(type(x))"
   ]
  },
  {
   "cell_type": "code",
   "execution_count": 54,
   "id": "a7236204-2d99-4329-abdd-8d4c6352c458",
   "metadata": {},
   "outputs": [
    {
     "name": "stdout",
     "output_type": "stream",
     "text": [
      "You passed!\n"
     ]
    }
   ],
   "source": [
    "score = 85\n",
    "if score >= 60:\n",
    "    print(\"You passed!\")"
   ]
  },
  {
   "cell_type": "code",
   "execution_count": 52,
   "id": "d8de7b99-2b37-46bb-a05f-42e785bd8e4b",
   "metadata": {},
   "outputs": [
    {
     "name": "stdout",
     "output_type": "stream",
     "text": [
      "Welcome, admin!\n",
      "Access granted.\n"
     ]
    }
   ],
   "source": [
    "username = \"admin\"\n",
    "password = \"1234\"\n",
    "if username == \"admin\":\n",
    "    print(\"Welcome, admin!\")\n",
    "if password == \"1234\":\n",
    "    print(\"Access granted.\")"
   ]
  },
  {
   "cell_type": "code",
   "execution_count": 62,
   "id": "d7f7b8fa-dc4c-4c74-921b-20d8913a1051",
   "metadata": {},
   "outputs": [
    {
     "name": "stdout",
     "output_type": "stream",
     "text": [
      "First check passed.\n",
      "This is part of the same block.\n"
     ]
    }
   ],
   "source": [
    "if 30 > 25:\n",
    "    print(\"First check passed.\")\n",
    "    print(\"This is part of the same block.\")"
   ]
  },
  {
   "cell_type": "code",
   "execution_count": 64,
   "id": "6b674178-b041-4cfb-a28a-3f066b6da6ac",
   "metadata": {},
   "outputs": [
    {
     "name": "stdout",
     "output_type": "stream",
     "text": [
      "Hello, World!\n"
     ]
    }
   ],
   "source": [
    "# First method using single quotes\n",
    "'''\n",
    "print(\"Hi!\")\n",
    "print(\"I am Heni Walha, a Data Scientist\")\n",
    "'''\n",
    "# Second method using double quotes\n",
    "\"\"\"\n",
    "print(\"Hi!\")\n",
    "print(\"I am Heni Walha, a Data Scientist\")\n",
    "\"\"\"\n",
    "print(\"Hello, World!\")"
   ]
  },
  {
   "cell_type": "code",
   "execution_count": 66,
   "id": "f5239e7d-9a95-4ce3-ade3-2a98a1dc7b4b",
   "metadata": {},
   "outputs": [
    {
     "name": "stdout",
     "output_type": "stream",
     "text": [
      "<class 'int'>\n",
      "<class 'float'>\n"
     ]
    }
   ],
   "source": [
    "x = 5 # Integer\n",
    "y = 5.0 # Float\n",
    "z = \"Hello, Python!\" # String\n",
    "w = 1j # Complex number\n",
    "\n",
    "print(type(x))\n",
    "print(type(y))\n"
   ]
  },
  {
   "cell_type": "code",
   "execution_count": 70,
   "id": "77bc9c22-2fb5-4493-a4f9-0d9a0c90929d",
   "metadata": {},
   "outputs": [
    {
     "name": "stdout",
     "output_type": "stream",
     "text": [
      "x:=34 , y:=3 ,z:=3.0\n"
     ]
    }
   ],
   "source": [
    "x = str(34) # x becomes '3' (a string)\n",
    "y = int(3.50) # y becomes 3 (rounded down to int)\n",
    "z = float(3) # z becomes 3.0 (a float)\n",
    "print(f\"x:={x} , y:={y} ,z:={z}\")"
   ]
  },
  {
   "cell_type": "code",
   "execution_count": 77,
   "id": "4a61d307-a90b-4754-b1b2-8edb2a3e3858",
   "metadata": {},
   "outputs": [],
   "source": [
    "first_name = \"Heni\"\n",
    "_user_name = \"Walha\"\n",
    "user1 = \"admin\"\n",
    "UserName = \"henidata\"\n",
    "USER = \"admin\"\n",
    "temperature_celsius = 23.5"
   ]
  },
  {
   "cell_type": "code",
   "execution_count": 118,
   "id": "4a302182-e94b-485c-8ba3-2c19055dfc5b",
   "metadata": {},
   "outputs": [
    {
     "name": "stdout",
     "output_type": "stream",
     "text": [
      "My favorite language is Python or Javascript\n"
     ]
    }
   ],
   "source": [
    "language = \"Python or Javascript\"\n",
    "def show_language():\n",
    "    print(\"My favorite language is \" + language)\n",
    "show_language()"
   ]
  },
  {
   "cell_type": "code",
   "execution_count": 122,
   "id": "ecc7485f-e920-4861-bed2-39e2a5d1d2d5",
   "metadata": {},
   "outputs": [
    {
     "name": "stdout",
     "output_type": "stream",
     "text": [
      "Inside the function: JavaScript\n",
      "Outside the function: Python\n"
     ]
    }
   ],
   "source": [
    "language = \"Python\"\n",
    "def show_language():\n",
    "    language = \"JavaScript\"\n",
    "    print(\"Inside the function: \" + language)\n",
    "show_language()\n",
    "print(\"Outside the function: \" + language)"
   ]
  },
  {
   "cell_type": "code",
   "execution_count": 126,
   "id": "275d570a-ac0a-4111-8f3e-370beff771dc",
   "metadata": {},
   "outputs": [
    {
     "name": "stdout",
     "output_type": "stream",
     "text": [
      "online\n",
      "Current status: online\n"
     ]
    }
   ],
   "source": [
    "status = \"offline\"\n",
    "def toggle_status():\n",
    "    global status\n",
    "    status = \"online\"\n",
    "    return status\n",
    "print(toggle_status())\n",
    "print(\"Current status:\", status)"
   ]
  },
  {
   "cell_type": "code",
   "execution_count": 128,
   "id": "0c53d35b-c75c-4332-8a50-8ba374048853",
   "metadata": {},
   "outputs": [
    {
     "name": "stdout",
     "output_type": "stream",
     "text": [
      "Heni\n",
      "25\n",
      "Tunisia\n"
     ]
    }
   ],
   "source": [
    "name, age, country = \"Heni\", 25, \"Tunisia\"\n",
    "print(name)\n",
    "print(age)\n",
    "print(country)"
   ]
  },
  {
   "cell_type": "code",
   "execution_count": 130,
   "id": "ef8f3ff0-1920-497b-addf-060beabcf3ba",
   "metadata": {},
   "outputs": [
    {
     "name": "stdout",
     "output_type": "stream",
     "text": [
      "active\n",
      "active\n",
      "active\n"
     ]
    }
   ],
   "source": [
    "status = level = mode = \"active\"\n",
    "print(status)\n",
    "print(level)\n",
    "print(mode)"
   ]
  },
  {
   "cell_type": "code",
   "execution_count": 132,
   "id": "2209c577-d404-4454-a2f0-449d04325df7",
   "metadata": {},
   "outputs": [
    {
     "name": "stdout",
     "output_type": "stream",
     "text": [
      "Orange\n",
      "Orange\n",
      "Orange\n"
     ]
    }
   ],
   "source": [
    "x = y = z = \"Orange\"\n",
    "print(x)\n",
    "print(y)\n",
    "print(z)"
   ]
  },
  {
   "cell_type": "code",
   "execution_count": null,
   "id": "fbd8a7d3-03eb-40fa-9151-cb6f8be78026",
   "metadata": {},
   "outputs": [],
   "source": [
    "data = [\"Paris\", \"London\", \"Tokyo\"]\n",
    "city1, city2, city3 = data\n",
    "print(city1)\n",
    "print(city2)\n",
    "print(city3)"
   ]
  },
  {
   "cell_type": "code",
   "execution_count": 3,
   "id": "ff8bd4ae-ccce-4862-9807-34e979dbd014",
   "metadata": {},
   "outputs": [
    {
     "name": "stdin",
     "output_type": "stream",
     "text": [
      " desko\n",
      "Your name pls dekoasta\n"
     ]
    },
    {
     "name": "stdout",
     "output_type": "stream",
     "text": [
      "dekoasta\n"
     ]
    }
   ],
   "source": [
    "name = input()\n",
    "name = input(\"Your name pls\")\n",
    "print(name)"
   ]
  },
  {
   "cell_type": "code",
   "execution_count": 5,
   "id": "69798b3a-f205-4b52-8a04-68581c521b57",
   "metadata": {},
   "outputs": [
    {
     "name": "stdout",
     "output_type": "stream",
     "text": [
      "10\n",
      "20\n",
      "20 10\n"
     ]
    }
   ],
   "source": [
    "x = 10\n",
    "y = 20\n",
    "print(x)\n",
    "print(y)\n",
    "x, y = y, x\n",
    "print(x, y) "
   ]
  },
  {
   "cell_type": "code",
   "execution_count": 7,
   "id": "c40cecc8-6ceb-4068-83f5-bb66da507484",
   "metadata": {},
   "outputs": [
    {
     "name": "stdout",
     "output_type": "stream",
     "text": [
      "<class 'str'>\n"
     ]
    }
   ],
   "source": [
    " x= 5 \n",
    "x = \"hello\" \n",
    "print(type(x))"
   ]
  },
  {
   "cell_type": "code",
   "execution_count": 30,
   "id": "95be14f5-094c-4c58-9f3f-0c05e8a6be9c",
   "metadata": {},
   "outputs": [
    {
     "ename": "NameError",
     "evalue": "name 'x' is not defined",
     "output_type": "error",
     "traceback": [
      "\u001b[1;31m---------------------------------------------------------------------------\u001b[0m",
      "\u001b[1;31mNameError\u001b[0m                                 Traceback (most recent call last)",
      "Cell \u001b[1;32mIn[30], line 3\u001b[0m\n\u001b[0;32m      1\u001b[0m x\u001b[38;5;241m=\u001b[39m\u001b[38;5;241m5\u001b[39m \n\u001b[0;32m      2\u001b[0m \u001b[38;5;28;01mdel\u001b[39;00m x\n\u001b[1;32m----> 3\u001b[0m \u001b[38;5;28mprint\u001b[39m(x)\n\u001b[0;32m      4\u001b[0m x \u001b[38;5;241m=\u001b[39m \u001b[38;5;241m10\u001b[39m\n\u001b[0;32m      5\u001b[0m \u001b[38;5;28mprint\u001b[39m(x)\n",
      "\u001b[1;31mNameError\u001b[0m: name 'x' is not defined"
     ]
    }
   ],
   "source": [
    "x=5 \n",
    "del x\n",
    "print(x)\n",
    "x = 10\n",
    "print(x)"
   ]
  },
  {
   "cell_type": "code",
   "execution_count": 34,
   "id": "3d5807db-77aa-4eaf-b8b9-6460d1d647c3",
   "metadata": {},
   "outputs": [
    {
     "name": "stdout",
     "output_type": "stream",
     "text": [
      "8\n"
     ]
    }
   ],
   "source": [
    "x = 5\n",
    "x = x + 3\n",
    "print(x)"
   ]
  },
  {
   "cell_type": "code",
   "execution_count": 36,
   "id": "c2724626-7d4c-4d2f-84bc-3ec49eb5f3f7",
   "metadata": {},
   "outputs": [
    {
     "name": "stdout",
     "output_type": "stream",
     "text": [
      "bin a : 0b1100100\n"
     ]
    }
   ],
   "source": [
    "a = 100\n",
    "print(\"bin a :\", bin(a)) "
   ]
  },
  {
   "cell_type": "code",
   "execution_count": 38,
   "id": "db516b0c-1a77-4790-8113-348b953cee92",
   "metadata": {},
   "outputs": [
    {
     "name": "stdout",
     "output_type": "stream",
     "text": [
      "bin a : 0b1100100\n",
      "bin b : 0b11001\n",
      "b = 25\n"
     ]
    }
   ],
   "source": [
    "a = 100\n",
    "print(\"bin a :\", bin(a)) # binary: 0110 0100\n",
    "b = a >> 2 # shift right by 2 → 0001 1001\n",
    "print(\"bin b :\", bin(b))\n",
    "print(\"b =\", b)"
   ]
  },
  {
   "cell_type": "code",
   "execution_count": 42,
   "id": "a579af5e-f601-4f73-a0a7-b18bc56b1f80",
   "metadata": {},
   "outputs": [
    {
     "name": "stdout",
     "output_type": "stream",
     "text": [
      "3\n"
     ]
    }
   ],
   "source": [
    "x, y, z = 1, 2, 3\n",
    "if x > y and x > z:\n",
    "    print(x)\n",
    "elif y > z:\n",
    "    print(y)\n",
    "else:\n",
    "    print(z)"
   ]
  },
  {
   "cell_type": "code",
   "execution_count": 46,
   "id": "53fe1a55-8b78-43ac-858f-47c3e9d2bfc6",
   "metadata": {},
   "outputs": [
    {
     "name": "stdout",
     "output_type": "stream",
     "text": [
      "Positive even number\n"
     ]
    }
   ],
   "source": [
    "x = 10\n",
    "if x > 0:\n",
    " if x % 2 == 0:\n",
    "    print(\"Positive even number\")\n",
    "else:\n",
    "    print(\"Positive odd number\")"
   ]
  },
  {
   "cell_type": "code",
   "execution_count": 50,
   "id": "fb0a5659-0be8-489e-a792-16ac61f21a13",
   "metadata": {},
   "outputs": [
    {
     "name": "stdin",
     "output_type": "stream",
     "text": [
      "Enter your name:  Ankiambom\n"
     ]
    },
    {
     "name": "stdout",
     "output_type": "stream",
     "text": [
      "Hello, stranger.\n"
     ]
    }
   ],
   "source": [
    "name = input(\"Enter your name: \")\n",
    "if name == \"Heni\":\n",
    "    print(\"Hi Heni!\")\n",
    "else:\n",
    "    print(\"Hello, stranger.\")"
   ]
  },
  {
   "cell_type": "code",
   "execution_count": 96,
   "id": "04015cab-f4c2-4612-91af-b62dabdf851f",
   "metadata": {},
   "outputs": [
    {
     "name": "stdin",
     "output_type": "stream",
     "text": [
      "ENTER YOUR USERNAME:  dekdkjd\n",
      "Enter your password:  kdjklj\n"
     ]
    },
    {
     "name": "stdout",
     "output_type": "stream",
     "text": [
      "WELCOME TO SHILIV AI\n"
     ]
    }
   ],
   "source": [
    "\n",
    "Username = input(\"ENTER YOUR USERNAME: \")\n",
    "Password = input(\"Enter your password: \")\n",
    "Username = \"Belo\"\n",
    "Password = 123\n",
    "if Username is Username and Password == Password:\n",
    "    \n",
    "    print(\"WELCOME TO SHILIV AI\")\n",
    "\n"
   ]
  },
  {
   "cell_type": "code",
   "execution_count": 111,
   "id": "92a02d50-c740-4ac6-80dc-e5380de6153f",
   "metadata": {},
   "outputs": [
    {
     "name": "stdin",
     "output_type": "stream",
     "text": [
      "Enter username:  user123\n",
      "Enter password:  password123\n"
     ]
    },
    {
     "name": "stdout",
     "output_type": "stream",
     "text": [
      "Login successful! Welcome.\n"
     ]
    }
   ],
   "source": [
    "def login_system():\n",
    "  \n",
    "    username = \"user123\"\n",
    "    password = \"password123\"\n",
    "\n",
    "    # Get user input\n",
    "    entered_username = input(\"Enter username: \")\n",
    "    entered_password = input(\"Enter password: \")\n",
    "\n",
    "    # Check credentials\n",
    "    if entered_username == username and entered_password == password:\n",
    "        print(\"Login successful! Welcome.\")\n",
    "    else:\n",
    "        print(\"Invalid username or password.\")\n",
    "\n",
    "\n",
    "login_system()"
   ]
  },
  {
   "cell_type": "code",
   "execution_count": 115,
   "id": "2cb2d26f-af7a-49c9-b8c2-946d20c014f1",
   "metadata": {},
   "outputs": [
    {
     "name": "stdout",
     "output_type": "stream",
     "text": [
      "A\n"
     ]
    }
   ],
   "source": [
    "a = 25\n",
    "b = 25\n",
    "print(\"A\") if a >= b else print(\"=\") if a == b else print(\"B\")"
   ]
  },
  {
   "cell_type": "code",
   "execution_count": 152,
   "id": "2df6c60b-b889-4438-a887-6553d8df8c16",
   "metadata": {},
   "outputs": [
    {
     "name": "stdout",
     "output_type": "stream",
     "text": [
      "Checked: 7\n",
      "Checked: 13\n",
      "Checked: 9\n",
      "First even number: 8\n"
     ]
    }
   ],
   "source": [
    "numbers = [7, 13, 9, 8, 10, 15, 45, 50]\n",
    "for num in numbers:\n",
    "    if num % 2 == 0:\n",
    "        print(\"First even number:\", num)\n",
    "        break\n",
    "    print(\"Checked:\", num)"
   ]
  },
  {
   "cell_type": "code",
   "execution_count": 159,
   "id": "b23fe8fe-78b2-4b3e-b1c2-066cb1071928",
   "metadata": {},
   "outputs": [
    {
     "name": "stdout",
     "output_type": "stream",
     "text": [
      "Odd number: 14\n"
     ]
    }
   ],
   "source": [
    "numbers = [2, 5, 8, 11, 14]\n",
    "for num in numbers:\n",
    "     if num % 2 == 0:\n",
    "        continue\n",
    "print(\"Odd number:\", num)"
   ]
  },
  {
   "cell_type": "code",
   "execution_count": 173,
   "id": "c12fcbc5-8bc6-4291-b25c-817af652c522",
   "metadata": {},
   "outputs": [
    {
     "name": "stdout",
     "output_type": "stream",
     "text": [
      "Sending SMS...\n",
      "Sending push notification...\n"
     ]
    }
   ],
   "source": [
    "notifications = [\"sms\", \"email\", \"push\"]\n",
    "for n_type in notifications:\n",
    "    if n_type == \"sms\":\n",
    "        print(\"Sending SMS...\")\n",
    "    elif n_type == \"email\":\n",
    "# Email handler is not ready yet\n",
    "        pass\n",
    "    elif n_type == \"push\":\n",
    "            print(\"Sending push notification...\")"
   ]
  },
  {
   "cell_type": "code",
   "execution_count": 177,
   "id": "2473da4f-ffee-4acc-8a64-aac853c5a31b",
   "metadata": {},
   "outputs": [
    {
     "name": "stdout",
     "output_type": "stream",
     "text": [
      "I saw a cat\n",
      "I saw a dog\n",
      "I saw a zebra\n"
     ]
    }
   ],
   "source": [
    "animals = [\"cat\", \"dog\", \"zebra\"]\n",
    "for animal in animals:\n",
    "    print(\"I saw a\", animal)"
   ]
  },
  {
   "cell_type": "code",
   "execution_count": 179,
   "id": "24bfadb3-632b-40c8-a9a7-213ba2b97413",
   "metadata": {},
   "outputs": [
    {
     "name": "stdout",
     "output_type": "stream",
     "text": [
      "I saw a Cat\n",
      "I saw a dogs\n",
      "I saw a Zebra\n"
     ]
    }
   ],
   "source": [
    "animals = [\"Cat\", \"dogs\", \"Zebra\"]\n",
    "for animal in animals:\n",
    "    print(\"I saw a\", animal)"
   ]
  },
  {
   "cell_type": "code",
   "execution_count": 183,
   "id": "27754a74-dddd-4a60-a14e-c4b9924f97d2",
   "metadata": {},
   "outputs": [
    {
     "name": "stdout",
     "output_type": "stream",
     "text": [
      "0\n",
      "1\n",
      "2\n",
      "3\n",
      "4\n"
     ]
    }
   ],
   "source": [
    "for i in range(5):\n",
    "    print (i)"
   ]
  },
  {
   "cell_type": "code",
   "execution_count": 185,
   "id": "857972a8-beb3-40f4-89cc-7596a97e269a",
   "metadata": {},
   "outputs": [
    {
     "name": "stdout",
     "output_type": "stream",
     "text": [
      "Counting: 0\n",
      "Counting: 1\n",
      "Counting: 2\n",
      "Loop finished without interruption.\n"
     ]
    }
   ],
   "source": [
    "for i in range(3):\n",
    "    print(\"Counting:\", i)\n",
    "else:\n",
    "    print(\"Loop finished without interruption.\")"
   ]
  },
  {
   "cell_type": "code",
   "execution_count": 216,
   "id": "db44e568-764a-4927-8261-748f0fb47905",
   "metadata": {},
   "outputs": [
    {
     "name": "stdin",
     "output_type": "stream",
     "text": [
      "Enter a number (type 0 or 'exit' to quit):  thksj\n",
      "Enter a number (type 0 or 'exit' to quit):  jdjd\n",
      "Enter a number (type 0 or 'exit' to quit):  ldjf\n",
      "Enter a number (type 0 or 'exit' to quit):  4\n",
      "Enter a number (type 0 or 'exit' to quit):  \n",
      "Enter a number (type 0 or 'exit' to quit):  4\n",
      "Enter a number (type 0 or 'exit' to quit):  4\n",
      "Enter a number (type 0 or 'exit' to quit):  4\n",
      "Enter a number (type 0 or 'exit' to quit):  4\n"
     ]
    },
    {
     "ename": "KeyboardInterrupt",
     "evalue": "Interrupted by user",
     "output_type": "error",
     "traceback": [
      "\u001b[1;31m---------------------------------------------------------------------------\u001b[0m",
      "\u001b[1;31mKeyboardInterrupt\u001b[0m                         Traceback (most recent call last)",
      "Cell \u001b[1;32mIn[216], line 2\u001b[0m\n\u001b[0;32m      1\u001b[0m \u001b[38;5;28;01mwhile\u001b[39;00m \u001b[38;5;28;01mTrue\u001b[39;00m:\n\u001b[1;32m----> 2\u001b[0m     user_input \u001b[38;5;241m=\u001b[39m \u001b[38;5;28minput\u001b[39m(\u001b[38;5;124m\"\u001b[39m\u001b[38;5;124mEnter a number (type 0 or \u001b[39m\u001b[38;5;124m'\u001b[39m\u001b[38;5;124mexit\u001b[39m\u001b[38;5;124m'\u001b[39m\u001b[38;5;124m to quit): \u001b[39m\u001b[38;5;124m\"\u001b[39m)\n\u001b[0;32m      3\u001b[0m     \u001b[38;5;28;01mif\u001b[39;00m user_input \u001b[38;5;241m==\u001b[39m \u001b[38;5;124m\"\u001b[39m\u001b[38;5;124m0\u001b[39m\u001b[38;5;124m\"\u001b[39m \u001b[38;5;129;01mor\u001b[39;00m user_input\u001b[38;5;241m.\u001b[39mlower() \u001b[38;5;241m==\u001b[39m \u001b[38;5;124m\"\u001b[39m\u001b[38;5;124mexit\u001b[39m\u001b[38;5;124m\"\u001b[39m:\n\u001b[0;32m      4\u001b[0m         \u001b[38;5;28mprint\u001b[39m(\u001b[38;5;124m\"\u001b[39m\u001b[38;5;124mExiting loop. Goodbye!\u001b[39m\u001b[38;5;124m\"\u001b[39m)\n",
      "File \u001b[1;32m~\\anaconda3\\Lib\\site-packages\\ipykernel\\kernelbase.py:1262\u001b[0m, in \u001b[0;36mKernel.raw_input\u001b[1;34m(self, prompt)\u001b[0m\n\u001b[0;32m   1260\u001b[0m     msg \u001b[38;5;241m=\u001b[39m \u001b[38;5;124m\"\u001b[39m\u001b[38;5;124mraw_input was called, but this frontend does not support input requests.\u001b[39m\u001b[38;5;124m\"\u001b[39m\n\u001b[0;32m   1261\u001b[0m     \u001b[38;5;28;01mraise\u001b[39;00m StdinNotImplementedError(msg)\n\u001b[1;32m-> 1262\u001b[0m \u001b[38;5;28;01mreturn\u001b[39;00m \u001b[38;5;28mself\u001b[39m\u001b[38;5;241m.\u001b[39m_input_request(\n\u001b[0;32m   1263\u001b[0m     \u001b[38;5;28mstr\u001b[39m(prompt),\n\u001b[0;32m   1264\u001b[0m     \u001b[38;5;28mself\u001b[39m\u001b[38;5;241m.\u001b[39m_parent_ident[\u001b[38;5;124m\"\u001b[39m\u001b[38;5;124mshell\u001b[39m\u001b[38;5;124m\"\u001b[39m],\n\u001b[0;32m   1265\u001b[0m     \u001b[38;5;28mself\u001b[39m\u001b[38;5;241m.\u001b[39mget_parent(\u001b[38;5;124m\"\u001b[39m\u001b[38;5;124mshell\u001b[39m\u001b[38;5;124m\"\u001b[39m),\n\u001b[0;32m   1266\u001b[0m     password\u001b[38;5;241m=\u001b[39m\u001b[38;5;28;01mFalse\u001b[39;00m,\n\u001b[0;32m   1267\u001b[0m )\n",
      "File \u001b[1;32m~\\anaconda3\\Lib\\site-packages\\ipykernel\\kernelbase.py:1305\u001b[0m, in \u001b[0;36mKernel._input_request\u001b[1;34m(self, prompt, ident, parent, password)\u001b[0m\n\u001b[0;32m   1302\u001b[0m \u001b[38;5;28;01mexcept\u001b[39;00m \u001b[38;5;167;01mKeyboardInterrupt\u001b[39;00m:\n\u001b[0;32m   1303\u001b[0m     \u001b[38;5;66;03m# re-raise KeyboardInterrupt, to truncate traceback\u001b[39;00m\n\u001b[0;32m   1304\u001b[0m     msg \u001b[38;5;241m=\u001b[39m \u001b[38;5;124m\"\u001b[39m\u001b[38;5;124mInterrupted by user\u001b[39m\u001b[38;5;124m\"\u001b[39m\n\u001b[1;32m-> 1305\u001b[0m     \u001b[38;5;28;01mraise\u001b[39;00m \u001b[38;5;167;01mKeyboardInterrupt\u001b[39;00m(msg) \u001b[38;5;28;01mfrom\u001b[39;00m \u001b[38;5;28;01mNone\u001b[39;00m\n\u001b[0;32m   1306\u001b[0m \u001b[38;5;28;01mexcept\u001b[39;00m \u001b[38;5;167;01mException\u001b[39;00m:\n\u001b[0;32m   1307\u001b[0m     \u001b[38;5;28mself\u001b[39m\u001b[38;5;241m.\u001b[39mlog\u001b[38;5;241m.\u001b[39mwarning(\u001b[38;5;124m\"\u001b[39m\u001b[38;5;124mInvalid Message:\u001b[39m\u001b[38;5;124m\"\u001b[39m, exc_info\u001b[38;5;241m=\u001b[39m\u001b[38;5;28;01mTrue\u001b[39;00m)\n",
      "\u001b[1;31mKeyboardInterrupt\u001b[0m: Interrupted by user"
     ]
    }
   ],
   "source": [
    "while True:\n",
    "    user_input = input(\"Enter a number (type 0 or 'exit' to quit): \")\n",
    "    if user_input == \"0\" or user_input.lower() == \"exit\":\n",
    "        print(\"Exiting loop. Goodbye!\")\n",
    "        break\n",
    "        print(\"You entered:\", user_input)"
   ]
  },
  {
   "cell_type": "code",
   "execution_count": 7,
   "id": "5a4b8567-fde6-4195-8989-53251d1e3efd",
   "metadata": {},
   "outputs": [
    {
     "name": "stdout",
     "output_type": "stream",
     "text": [
      "1\n",
      "2\n",
      "4\n",
      "5\n"
     ]
    }
   ],
   "source": [
    " list = [1,2,4,5,]\n",
    "for lo in list:\n",
    "    print(lo)"
   ]
  },
  {
   "cell_type": "code",
   "execution_count": 15,
   "id": "3b22330d-3c0f-4f68-9a65-910a947ef638",
   "metadata": {},
   "outputs": [
    {
     "name": "stdout",
     "output_type": "stream",
     "text": [
      "['apple', 'banana', 'cherry']\n"
     ]
    }
   ],
   "source": [
    "# append()\n",
    "items = ['apple', 'banana']\n",
    "items.append('cherry')\n",
    "print(items)"
   ]
  },
  {
   "cell_type": "code",
   "execution_count": 17,
   "id": "3c605a99-ce94-4eda-bc06-e0ea3fc719b0",
   "metadata": {},
   "outputs": [
    {
     "name": "stdout",
     "output_type": "stream",
     "text": [
      "[]\n"
     ]
    }
   ],
   "source": [
    "# clear()\n",
    "data = [1, 2, 3]\n",
    "data.clear()\n",
    "print(data)"
   ]
  },
  {
   "cell_type": "code",
   "execution_count": 19,
   "id": "65574458-ca9e-40ca-a543-bc585e473fc0",
   "metadata": {},
   "outputs": [
    {
     "name": "stdout",
     "output_type": "stream",
     "text": [
      "['red', 'green', 'blue']\n"
     ]
    }
   ],
   "source": [
    "# copy()\n",
    "colors = ['red', 'green', 'blue']\n",
    "copy_colors = colors.copy()\n",
    "print(copy_colors)"
   ]
  },
  {
   "cell_type": "code",
   "execution_count": 21,
   "id": "0a4750a9-9180-4c1f-8353-f46779e0c3e6",
   "metadata": {},
   "outputs": [
    {
     "name": "stdout",
     "output_type": "stream",
     "text": [
      "2\n"
     ]
    }
   ],
   "source": [
    "# count()\n",
    "names = ['Alice', 'Bob', 'Alice']\n",
    "print(names.count('Alice'))"
   ]
  },
  {
   "cell_type": "code",
   "execution_count": 23,
   "id": "fffe80fb-b9c8-40c9-b5b3-4ac69a67ad5b",
   "metadata": {},
   "outputs": [
    {
     "name": "stdout",
     "output_type": "stream",
     "text": [
      "[1, 2, 3, 4]\n"
     ]
    }
   ],
   "source": [
    "\n",
    "# extend()\n",
    "numbers = [1, 2]\n",
    "numbers.extend([3, 4])\n",
    "print(numbers) # [1, 2, 3, 4]"
   ]
  },
  {
   "cell_type": "code",
   "execution_count": 25,
   "id": "c4623460-bc25-43bf-8a0c-34c1dc8b9769",
   "metadata": {},
   "outputs": [
    {
     "name": "stdout",
     "output_type": "stream",
     "text": [
      "1\n"
     ]
    }
   ],
   "source": [
    "# index()\n",
    "letters = ['a', 'b', 'c']\n",
    "print(letters.index('b'))"
   ]
  },
  {
   "cell_type": "code",
   "execution_count": 27,
   "id": "402b8972-7c44-4dba-b1fa-380527b598dd",
   "metadata": {},
   "outputs": [
    {
     "name": "stdout",
     "output_type": "stream",
     "text": [
      "[10, 15, 20, 30]\n"
     ]
    }
   ],
   "source": [
    "# insert()\n",
    "nums = [10, 20, 30]\n",
    "nums.insert(1, 15)\n",
    "print(nums)"
   ]
  },
  {
   "cell_type": "code",
   "execution_count": 29,
   "id": "ab83fdfd-a9ac-4b27-ad75-2c20c7cac9a2",
   "metadata": {},
   "outputs": [
    {
     "name": "stdout",
     "output_type": "stream",
     "text": [
      "['pen', 'book']\n",
      "Removed: eraser\n"
     ]
    }
   ],
   "source": [
    "# pop()\n",
    "supplies = ['pen', 'book', 'eraser']\n",
    "removed = supplies.pop()\n",
    "print(supplies) # ['pen', 'book']\n",
    "print(\"Removed:\", removed)"
   ]
  },
  {
   "cell_type": "code",
   "execution_count": 31,
   "id": "d7bd3bdc-d38c-4feb-b910-e449423eab32",
   "metadata": {},
   "outputs": [
    {
     "name": "stdout",
     "output_type": "stream",
     "text": [
      "['cat', 'dog']\n"
     ]
    }
   ],
   "source": [
    "# remove()\n",
    "pets = ['dog', 'cat', 'dog']\n",
    "pets.remove('dog')\n",
    "print(pets) # ['cat', 'dog']"
   ]
  },
  {
   "cell_type": "code",
   "execution_count": 33,
   "id": "42ff196f-1199-44d4-95f2-8690947a4435",
   "metadata": {},
   "outputs": [
    {
     "name": "stdout",
     "output_type": "stream",
     "text": [
      "[3, 2, 1]\n"
     ]
    }
   ],
   "source": [
    "# reverse()\n",
    "order = [1, 2, 3]\n",
    "order.reverse()\n",
    "print(order) # [3, 2, 1]"
   ]
  },
  {
   "cell_type": "code",
   "execution_count": 35,
   "id": "144e0a70-7f79-418b-9f72-645c83cbd538",
   "metadata": {},
   "outputs": [
    {
     "name": "stdout",
     "output_type": "stream",
     "text": [
      "[1, 2, 3]\n"
     ]
    }
   ],
   "source": [
    "# sort()\n",
    "values = [3, 1, 2]\n",
    "values.sort()\n",
    "print(values) # [1, 2, 3]"
   ]
  },
  {
   "cell_type": "code",
   "execution_count": null,
   "id": "dc1a39a8-3898-445c-ae59-e2f1d08693fc",
   "metadata": {},
   "outputs": [],
   "source": []
  }
 ],
 "metadata": {
  "kernelspec": {
   "display_name": "Python [conda env:base] *",
   "language": "python",
   "name": "conda-base-py"
  },
  "language_info": {
   "codemirror_mode": {
    "name": "ipython",
    "version": 3
   },
   "file_extension": ".py",
   "mimetype": "text/x-python",
   "name": "python",
   "nbconvert_exporter": "python",
   "pygments_lexer": "ipython3",
   "version": "3.12.7"
  }
 },
 "nbformat": 4,
 "nbformat_minor": 5
}
