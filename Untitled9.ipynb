{
 "cells": [
  {
   "cell_type": "code",
   "execution_count": null,
   "id": "535aed58-1818-4dd0-8fbe-b155ef0099da",
   "metadata": {},
   "outputs": [],
   "source": [
    "import numpy as np"
   ]
  },
  {
   "cell_type": "code",
   "execution_count": null,
   "id": "92943c3f-e477-4bdc-9d21-6892fd62e6c3",
   "metadata": {},
   "outputs": [],
   "source": [
    "a = np.array([1,2,3,])\n",
    "print(a)"
   ]
  },
  {
   "cell_type": "code",
   "execution_count": null,
   "id": "42657df6-c234-497d-879f-9a6c063b7432",
   "metadata": {},
   "outputs": [],
   "source": [
    "b = np.array([[9.0,8.0,7.0],[6.0,5.0,4.0]])\n",
    "print(b)"
   ]
  },
  {
   "cell_type": "code",
   "execution_count": null,
   "id": "b3a974a9-96f4-4493-9938-fac337fdcf94",
   "metadata": {},
   "outputs": [],
   "source": [
    "a.ndim"
   ]
  },
  {
   "cell_type": "code",
   "execution_count": null,
   "id": "b4fdf249-82b3-4b99-afe8-a797c42e3824",
   "metadata": {},
   "outputs": [],
   "source": [
    "a.shape"
   ]
  },
  {
   "cell_type": "code",
   "execution_count": null,
   "id": "8eda7072-6161-4613-bc70-1e21b4969a03",
   "metadata": {},
   "outputs": [],
   "source": [
    "name = input()"
   ]
  },
  {
   "cell_type": "code",
   "execution_count": null,
   "id": "0694fdd5-3eaa-4867-adc8-035e17a01212",
   "metadata": {},
   "outputs": [],
   "source": [
    "print(\"Hello, World!\")"
   ]
  },
  {
   "cell_type": "code",
   "execution_count": null,
   "id": "49161b32-b486-48f5-bfd2-90728add0f16",
   "metadata": {},
   "outputs": [],
   "source": [
    "print(\"I hope you are enjoying this workshop, \" + name + \"!\")"
   ]
  },
  {
   "cell_type": "code",
   "execution_count": null,
   "id": "93e19b80-774a-4494-b41c-0a61f4f73743",
   "metadata": {},
   "outputs": [],
   "source": [
    "name = \"Ankiambom\"\n",
    "print(f\"Hello, {name}!\")"
   ]
  },
  {
   "cell_type": "code",
   "execution_count": null,
   "id": "a1ff55c2-0f30-414f-afe8-fe962d317ddd",
   "metadata": {},
   "outputs": [],
   "source": [
    "print(f\"I hope you are enjoying this workshop, {name}!\")"
   ]
  },
  {
   "cell_type": "code",
   "execution_count": null,
   "id": "b3c2f506-08d0-491c-9b24-0ea27c8199db",
   "metadata": {},
   "outputs": [],
   "source": [
    "age = 25\n",
    "print(\"Age: \" + str(age))"
   ]
  },
  {
   "cell_type": "code",
   "execution_count": 58,
   "id": "207c06b8-c8e9-4140-99b8-29acd1debcb2",
   "metadata": {},
   "outputs": [
    {
     "name": "stdout",
     "output_type": "stream",
     "text": [
      "<class 'int'>\n"
     ]
    }
   ],
   "source": [
    "\n",
    "x = 20\n",
    "print(type(x))"
   ]
  },
  {
   "cell_type": "code",
   "execution_count": 54,
   "id": "a7236204-2d99-4329-abdd-8d4c6352c458",
   "metadata": {},
   "outputs": [
    {
     "name": "stdout",
     "output_type": "stream",
     "text": [
      "You passed!\n"
     ]
    }
   ],
   "source": [
    "score = 85\n",
    "if score >= 60:\n",
    "    print(\"You passed!\")"
   ]
  },
  {
   "cell_type": "code",
   "execution_count": 52,
   "id": "d8de7b99-2b37-46bb-a05f-42e785bd8e4b",
   "metadata": {},
   "outputs": [
    {
     "name": "stdout",
     "output_type": "stream",
     "text": [
      "Welcome, admin!\n",
      "Access granted.\n"
     ]
    }
   ],
   "source": [
    "username = \"admin\"\n",
    "password = \"1234\"\n",
    "if username == \"admin\":\n",
    "    print(\"Welcome, admin!\")\n",
    "if password == \"1234\":\n",
    "    print(\"Access granted.\")"
   ]
  },
  {
   "cell_type": "code",
   "execution_count": 62,
   "id": "d7f7b8fa-dc4c-4c74-921b-20d8913a1051",
   "metadata": {},
   "outputs": [
    {
     "name": "stdout",
     "output_type": "stream",
     "text": [
      "First check passed.\n",
      "This is part of the same block.\n"
     ]
    }
   ],
   "source": [
    "if 30 > 25:\n",
    "    print(\"First check passed.\")\n",
    "    print(\"This is part of the same block.\")"
   ]
  },
  {
   "cell_type": "code",
   "execution_count": 64,
   "id": "6b674178-b041-4cfb-a28a-3f066b6da6ac",
   "metadata": {},
   "outputs": [
    {
     "name": "stdout",
     "output_type": "stream",
     "text": [
      "Hello, World!\n"
     ]
    }
   ],
   "source": [
    "# First method using single quotes\n",
    "'''\n",
    "print(\"Hi!\")\n",
    "print(\"I am Heni Walha, a Data Scientist\")\n",
    "'''\n",
    "# Second method using double quotes\n",
    "\"\"\"\n",
    "print(\"Hi!\")\n",
    "print(\"I am Heni Walha, a Data Scientist\")\n",
    "\"\"\"\n",
    "print(\"Hello, World!\")"
   ]
  },
  {
   "cell_type": "code",
   "execution_count": 66,
   "id": "f5239e7d-9a95-4ce3-ade3-2a98a1dc7b4b",
   "metadata": {},
   "outputs": [
    {
     "name": "stdout",
     "output_type": "stream",
     "text": [
      "<class 'int'>\n",
      "<class 'float'>\n"
     ]
    }
   ],
   "source": [
    "x = 5 # Integer\n",
    "y = 5.0 # Float\n",
    "z = \"Hello, Python!\" # String\n",
    "w = 1j # Complex number\n",
    "\n",
    "print(type(x))\n",
    "print(type(y))\n"
   ]
  },
  {
   "cell_type": "code",
   "execution_count": 70,
   "id": "77bc9c22-2fb5-4493-a4f9-0d9a0c90929d",
   "metadata": {},
   "outputs": [
    {
     "name": "stdout",
     "output_type": "stream",
     "text": [
      "x:=34 , y:=3 ,z:=3.0\n"
     ]
    }
   ],
   "source": [
    "x = str(34) # x becomes '3' (a string)\n",
    "y = int(3.50) # y becomes 3 (rounded down to int)\n",
    "z = float(3) # z becomes 3.0 (a float)\n",
    "print(f\"x:={x} , y:={y} ,z:={z}\")"
   ]
  },
  {
   "cell_type": "code",
   "execution_count": 77,
   "id": "4a61d307-a90b-4754-b1b2-8edb2a3e3858",
   "metadata": {},
   "outputs": [],
   "source": [
    "first_name = \"Heni\"\n",
    "_user_name = \"Walha\"\n",
    "user1 = \"admin\"\n",
    "UserName = \"henidata\"\n",
    "USER = \"admin\"\n",
    "temperature_celsius = 23.5"
   ]
  },
  {
   "cell_type": "code",
   "execution_count": 118,
   "id": "4a302182-e94b-485c-8ba3-2c19055dfc5b",
   "metadata": {},
   "outputs": [
    {
     "name": "stdout",
     "output_type": "stream",
     "text": [
      "My favorite language is Python or Javascript\n"
     ]
    }
   ],
   "source": [
    "language = \"Python or Javascript\"\n",
    "def show_language():\n",
    "    print(\"My favorite language is \" + language)\n",
    "show_language()"
   ]
  },
  {
   "cell_type": "code",
   "execution_count": 122,
   "id": "ecc7485f-e920-4861-bed2-39e2a5d1d2d5",
   "metadata": {},
   "outputs": [
    {
     "name": "stdout",
     "output_type": "stream",
     "text": [
      "Inside the function: JavaScript\n",
      "Outside the function: Python\n"
     ]
    }
   ],
   "source": [
    "language = \"Python\"\n",
    "def show_language():\n",
    "    language = \"JavaScript\"\n",
    "    print(\"Inside the function: \" + language)\n",
    "show_language()\n",
    "print(\"Outside the function: \" + language)"
   ]
  },
  {
   "cell_type": "code",
   "execution_count": 126,
   "id": "275d570a-ac0a-4111-8f3e-370beff771dc",
   "metadata": {},
   "outputs": [
    {
     "name": "stdout",
     "output_type": "stream",
     "text": [
      "online\n",
      "Current status: online\n"
     ]
    }
   ],
   "source": [
    "status = \"offline\"\n",
    "def toggle_status():\n",
    "    global status\n",
    "    status = \"online\"\n",
    "    return status\n",
    "print(toggle_status())\n",
    "print(\"Current status:\", status)"
   ]
  },
  {
   "cell_type": "code",
   "execution_count": 128,
   "id": "0c53d35b-c75c-4332-8a50-8ba374048853",
   "metadata": {},
   "outputs": [
    {
     "name": "stdout",
     "output_type": "stream",
     "text": [
      "Heni\n",
      "25\n",
      "Tunisia\n"
     ]
    }
   ],
   "source": [
    "name, age, country = \"Heni\", 25, \"Tunisia\"\n",
    "print(name)\n",
    "print(age)\n",
    "print(country)"
   ]
  },
  {
   "cell_type": "code",
   "execution_count": 130,
   "id": "ef8f3ff0-1920-497b-addf-060beabcf3ba",
   "metadata": {},
   "outputs": [
    {
     "name": "stdout",
     "output_type": "stream",
     "text": [
      "active\n",
      "active\n",
      "active\n"
     ]
    }
   ],
   "source": [
    "status = level = mode = \"active\"\n",
    "print(status)\n",
    "print(level)\n",
    "print(mode)"
   ]
  },
  {
   "cell_type": "code",
   "execution_count": null,
   "id": "2209c577-d404-4454-a2f0-449d04325df7",
   "metadata": {},
   "outputs": [],
   "source": []
  }
 ],
 "metadata": {
  "kernelspec": {
   "display_name": "Python [conda env:base] *",
   "language": "python",
   "name": "conda-base-py"
  },
  "language_info": {
   "codemirror_mode": {
    "name": "ipython",
    "version": 3
   },
   "file_extension": ".py",
   "mimetype": "text/x-python",
   "name": "python",
   "nbconvert_exporter": "python",
   "pygments_lexer": "ipython3",
   "version": "3.12.7"
  }
 },
 "nbformat": 4,
 "nbformat_minor": 5
}
