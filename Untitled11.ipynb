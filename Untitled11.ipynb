{
 "cells": [
  {
   "cell_type": "code",
   "execution_count": 3,
   "id": "4f7e02f6-e037-4eba-8e5c-f42db012e402",
   "metadata": {},
   "outputs": [],
   "source": [
    "import pandas as pd\n",
    "import numpy as np"
   ]
  },
  {
   "cell_type": "code",
   "execution_count": 5,
   "id": "300454b8-b0f7-4ce5-a9b0-b734e408b9b0",
   "metadata": {},
   "outputs": [
    {
     "name": "stdout",
     "output_type": "stream",
     "text": [
      "Alice      85\n",
      "Bob        90\n",
      "Charlie    78\n",
      "Diana      92\n",
      "dtype: int64\n"
     ]
    }
   ],
   "source": [
    "# Create a Series\n",
    "scores = pd.Series([85, 90, 78, 92], index=['Alice', 'Bob', 'Charlie', 'Diana'])\n",
    "print(scores)\n"
   ]
  },
  {
   "cell_type": "code",
   "execution_count": 7,
   "id": "57e7d841-bc54-4eec-9f66-574b0648a26b",
   "metadata": {},
   "outputs": [
    {
     "name": "stdout",
     "output_type": "stream",
     "text": [
      "90\n"
     ]
    }
   ],
   "source": [
    "print(scores['Bob'])  # Access by index"
   ]
  },
  {
   "cell_type": "code",
   "execution_count": 44,
   "id": "793d021a-6dac-45f4-a78f-3ead790d3dc3",
   "metadata": {},
   "outputs": [
    {
     "name": "stdout",
     "output_type": "stream",
     "text": [
      "      Name  Score\n",
      "0    Alice   85.0\n",
      "1      Bob    NaN\n",
      "2  Charlie   78.0\n",
      "3     None   92.0\n"
     ]
    }
   ],
   "source": [
    "data = {\n",
    "    'Name': ['Alice', 'Bob', 'Charlie', None],\n",
    "    'Score': [85, None, 78, 92]\n",
    "}\n",
    "df = pd.DataFrame(data)\n",
    "print(df)"
   ]
  },
  {
   "cell_type": "code",
   "execution_count": 46,
   "id": "07b1b900-c149-4b92-bf2d-975ac260ec4c",
   "metadata": {},
   "outputs": [
    {
     "name": "stdout",
     "output_type": "stream",
     "text": [
      "    Name  Score\n",
      "0  False  False\n",
      "1  False   True\n",
      "2  False  False\n",
      "3   True  False\n"
     ]
    }
   ],
   "source": [
    "# Check for missing values\n",
    "print(df.isna())"
   ]
  },
  {
   "cell_type": "code",
   "execution_count": 50,
   "id": "4e08b157-f9f6-4776-808b-d64b600e28c8",
   "metadata": {},
   "outputs": [
    {
     "name": "stdout",
     "output_type": "stream",
     "text": [
      "      Name  Score\n",
      "0    Alice   85.0\n",
      "1      Bob   85.0\n",
      "2  Charlie   78.0\n",
      "3  Unknown   92.0\n"
     ]
    }
   ],
   "source": [
    "# Fill missing values\n",
    "df['Score'] = df['Score'].fillna(df['Score'].mean())\n",
    "df['Name'] = df['Name'].fillna('Unknown')\n",
    "print(df)"
   ]
  },
  {
   "cell_type": "code",
   "execution_count": 54,
   "id": "69189ac7-c34b-4258-9f4e-d5d1ceb66a25",
   "metadata": {},
   "outputs": [
    {
     "name": "stdout",
     "output_type": "stream",
     "text": [
      "      Name  Score\n",
      "0    Alice   85.0\n",
      "1      Bob   85.0\n",
      "2  Charlie   78.0\n",
      "3  Unknown   92.0\n"
     ]
    }
   ],
   "source": [
    "# Drop rows with missing values\n",
    "df_dropped = df.dropna()\n",
    "print(df)"
   ]
  },
  {
   "cell_type": "code",
   "execution_count": 56,
   "id": "dd088af1-667a-4eac-97c8-c1e3081dbd27",
   "metadata": {},
   "outputs": [
    {
     "name": "stdout",
     "output_type": "stream",
     "text": [
      "      Name  Score Grade\n",
      "0    Alice   85.0     A\n",
      "1      Bob   90.0     B\n",
      "2  Charlie   78.0   NaN\n",
      "3    Diana    NaN     A\n"
     ]
    }
   ],
   "source": [
    "# Create two DataFrames\n",
    "df1 = pd.DataFrame({\n",
    "    'Name': ['Alice', 'Bob', 'Charlie'],\n",
    "    'Score': [85, 90, 78]\n",
    "})\n",
    "df2 = pd.DataFrame({\n",
    "    'Name': ['Alice', 'Bob', 'Diana'],\n",
    "    'Grade': ['A', 'B', 'A']\n",
    "})\n",
    "# Merge on 'Name'\n",
    "merged_df = pd.merge(df1, df2, on='Name', how='outer')\n",
    "print(merged_df)"
   ]
  },
  {
   "cell_type": "code",
   "execution_count": 60,
   "id": "6131b321-3907-4b35-a947-968d21546703",
   "metadata": {},
   "outputs": [
    {
     "name": "stdout",
     "output_type": "stream",
     "text": [
      "         mean  count\n",
      "Name                \n",
      "Alice    85.0      1\n",
      "Bob      85.0      1\n",
      "Charlie  78.0      1\n",
      "Unknown  92.0      1\n"
     ]
    }
   ],
   "source": [
    "# Group by Age and calculate mean Score\n",
    "grouped = df.groupby('Name')['Score'].agg(['mean', 'count'])\n",
    "print(grouped)"
   ]
  },
  {
   "cell_type": "code",
   "execution_count": 9,
   "id": "76e9da01-dee9-47c6-8876-7997280a13d8",
   "metadata": {},
   "outputs": [
    {
     "name": "stdout",
     "output_type": "stream",
     "text": [
      "      Name  Age  Score\n",
      "0    Alice   22     85\n",
      "1      Bob   25     90\n",
      "2  Charlie   19     78\n",
      "3    Diana   30     92\n"
     ]
    }
   ],
   "source": [
    "# Create a DataFrame\n",
    "data = {\n",
    "    'Name': ['Alice', 'Bob', 'Charlie', 'Diana'],\n",
    "    'Age': [22, 25, 19, 30],\n",
    "    'Score': [85, 90, 78, 92]\n",
    "}\n",
    "df = pd.DataFrame(data)\n",
    "print(df)"
   ]
  },
  {
   "cell_type": "code",
   "execution_count": 62,
   "id": "a589e4cc-c242-4bb6-870d-47ae58b9cef1",
   "metadata": {},
   "outputs": [
    {
     "name": "stdout",
     "output_type": "stream",
     "text": [
      "               Score\n",
      "Subject Name        \n",
      "Math    Alice     85\n",
      "        Bob       90\n",
      "Science Alice     88\n",
      "        Bob       92\n",
      "Score    85\n",
      "Name: (Math, Alice), dtype: int64\n"
     ]
    }
   ],
   "source": [
    "# Create a DataFrame with MultiIndex\n",
    "arrays = [\n",
    "    ['Math', 'Math', 'Science', 'Science'],\n",
    "    ['Alice', 'Bob', 'Alice', 'Bob']\n",
    "]\n",
    "index = pd.MultiIndex.from_arrays(arrays, names=('Subject', 'Name'))\n",
    "data = pd.DataFrame({'Score': [85, 90, 88, 92]}, index=index)\n",
    "print(data)\n",
    "# Access data\n",
    "print(data.loc['Math', 'Alice'])"
   ]
  },
  {
   "cell_type": "code",
   "execution_count": 66,
   "id": "b15ad844-9f56-4691-90a4-de09cd76807f",
   "metadata": {},
   "outputs": [
    {
     "ename": "KeyError",
     "evalue": "'Subject'",
     "output_type": "error",
     "traceback": [
      "\u001b[1;31m---------------------------------------------------------------------------\u001b[0m",
      "\u001b[1;31mKeyError\u001b[0m                                  Traceback (most recent call last)",
      "Cell \u001b[1;32mIn[66], line 2\u001b[0m\n\u001b[0;32m      1\u001b[0m \u001b[38;5;66;03m# Pivot table\u001b[39;00m\n\u001b[1;32m----> 2\u001b[0m pivot_df \u001b[38;5;241m=\u001b[39m df\u001b[38;5;241m.\u001b[39mpivot_table(values\u001b[38;5;241m=\u001b[39m\u001b[38;5;124m'\u001b[39m\u001b[38;5;124mScore\u001b[39m\u001b[38;5;124m'\u001b[39m, index\u001b[38;5;241m=\u001b[39m\u001b[38;5;124m'\u001b[39m\u001b[38;5;124mName\u001b[39m\u001b[38;5;124m'\u001b[39m, columns\u001b[38;5;241m=\u001b[39m\u001b[38;5;124m'\u001b[39m\u001b[38;5;124mSubject\u001b[39m\u001b[38;5;124m'\u001b[39m, aggfunc\u001b[38;5;241m=\u001b[39m\u001b[38;5;124m'\u001b[39m\u001b[38;5;124mmean\u001b[39m\u001b[38;5;124m'\u001b[39m)\n\u001b[0;32m      3\u001b[0m \u001b[38;5;28mprint\u001b[39m(pivot_df)\n",
      "File \u001b[1;32m~\\anaconda3\\Lib\\site-packages\\pandas\\core\\frame.py:9509\u001b[0m, in \u001b[0;36mDataFrame.pivot_table\u001b[1;34m(self, values, index, columns, aggfunc, fill_value, margins, dropna, margins_name, observed, sort)\u001b[0m\n\u001b[0;32m   9492\u001b[0m \u001b[38;5;129m@Substitution\u001b[39m(\u001b[38;5;124m\"\u001b[39m\u001b[38;5;124m\"\u001b[39m)\n\u001b[0;32m   9493\u001b[0m \u001b[38;5;129m@Appender\u001b[39m(_shared_docs[\u001b[38;5;124m\"\u001b[39m\u001b[38;5;124mpivot_table\u001b[39m\u001b[38;5;124m\"\u001b[39m])\n\u001b[0;32m   9494\u001b[0m \u001b[38;5;28;01mdef\u001b[39;00m \u001b[38;5;21mpivot_table\u001b[39m(\n\u001b[1;32m   (...)\u001b[0m\n\u001b[0;32m   9505\u001b[0m     sort: \u001b[38;5;28mbool\u001b[39m \u001b[38;5;241m=\u001b[39m \u001b[38;5;28;01mTrue\u001b[39;00m,\n\u001b[0;32m   9506\u001b[0m ) \u001b[38;5;241m-\u001b[39m\u001b[38;5;241m>\u001b[39m DataFrame:\n\u001b[0;32m   9507\u001b[0m     \u001b[38;5;28;01mfrom\u001b[39;00m \u001b[38;5;21;01mpandas\u001b[39;00m\u001b[38;5;21;01m.\u001b[39;00m\u001b[38;5;21;01mcore\u001b[39;00m\u001b[38;5;21;01m.\u001b[39;00m\u001b[38;5;21;01mreshape\u001b[39;00m\u001b[38;5;21;01m.\u001b[39;00m\u001b[38;5;21;01mpivot\u001b[39;00m \u001b[38;5;28;01mimport\u001b[39;00m pivot_table\n\u001b[1;32m-> 9509\u001b[0m     \u001b[38;5;28;01mreturn\u001b[39;00m pivot_table(\n\u001b[0;32m   9510\u001b[0m         \u001b[38;5;28mself\u001b[39m,\n\u001b[0;32m   9511\u001b[0m         values\u001b[38;5;241m=\u001b[39mvalues,\n\u001b[0;32m   9512\u001b[0m         index\u001b[38;5;241m=\u001b[39mindex,\n\u001b[0;32m   9513\u001b[0m         columns\u001b[38;5;241m=\u001b[39mcolumns,\n\u001b[0;32m   9514\u001b[0m         aggfunc\u001b[38;5;241m=\u001b[39maggfunc,\n\u001b[0;32m   9515\u001b[0m         fill_value\u001b[38;5;241m=\u001b[39mfill_value,\n\u001b[0;32m   9516\u001b[0m         margins\u001b[38;5;241m=\u001b[39mmargins,\n\u001b[0;32m   9517\u001b[0m         dropna\u001b[38;5;241m=\u001b[39mdropna,\n\u001b[0;32m   9518\u001b[0m         margins_name\u001b[38;5;241m=\u001b[39mmargins_name,\n\u001b[0;32m   9519\u001b[0m         observed\u001b[38;5;241m=\u001b[39mobserved,\n\u001b[0;32m   9520\u001b[0m         sort\u001b[38;5;241m=\u001b[39msort,\n\u001b[0;32m   9521\u001b[0m     )\n",
      "File \u001b[1;32m~\\anaconda3\\Lib\\site-packages\\pandas\\core\\reshape\\pivot.py:102\u001b[0m, in \u001b[0;36mpivot_table\u001b[1;34m(data, values, index, columns, aggfunc, fill_value, margins, dropna, margins_name, observed, sort)\u001b[0m\n\u001b[0;32m     99\u001b[0m     table \u001b[38;5;241m=\u001b[39m concat(pieces, keys\u001b[38;5;241m=\u001b[39mkeys, axis\u001b[38;5;241m=\u001b[39m\u001b[38;5;241m1\u001b[39m)\n\u001b[0;32m    100\u001b[0m     \u001b[38;5;28;01mreturn\u001b[39;00m table\u001b[38;5;241m.\u001b[39m__finalize__(data, method\u001b[38;5;241m=\u001b[39m\u001b[38;5;124m\"\u001b[39m\u001b[38;5;124mpivot_table\u001b[39m\u001b[38;5;124m\"\u001b[39m)\n\u001b[1;32m--> 102\u001b[0m table \u001b[38;5;241m=\u001b[39m __internal_pivot_table(\n\u001b[0;32m    103\u001b[0m     data,\n\u001b[0;32m    104\u001b[0m     values,\n\u001b[0;32m    105\u001b[0m     index,\n\u001b[0;32m    106\u001b[0m     columns,\n\u001b[0;32m    107\u001b[0m     aggfunc,\n\u001b[0;32m    108\u001b[0m     fill_value,\n\u001b[0;32m    109\u001b[0m     margins,\n\u001b[0;32m    110\u001b[0m     dropna,\n\u001b[0;32m    111\u001b[0m     margins_name,\n\u001b[0;32m    112\u001b[0m     observed,\n\u001b[0;32m    113\u001b[0m     sort,\n\u001b[0;32m    114\u001b[0m )\n\u001b[0;32m    115\u001b[0m \u001b[38;5;28;01mreturn\u001b[39;00m table\u001b[38;5;241m.\u001b[39m__finalize__(data, method\u001b[38;5;241m=\u001b[39m\u001b[38;5;124m\"\u001b[39m\u001b[38;5;124mpivot_table\u001b[39m\u001b[38;5;124m\"\u001b[39m)\n",
      "File \u001b[1;32m~\\anaconda3\\Lib\\site-packages\\pandas\\core\\reshape\\pivot.py:172\u001b[0m, in \u001b[0;36m__internal_pivot_table\u001b[1;34m(data, values, index, columns, aggfunc, fill_value, margins, dropna, margins_name, observed, sort)\u001b[0m\n\u001b[0;32m    169\u001b[0m     values \u001b[38;5;241m=\u001b[39m \u001b[38;5;28mlist\u001b[39m(values)\n\u001b[0;32m    171\u001b[0m observed_bool \u001b[38;5;241m=\u001b[39m \u001b[38;5;28;01mFalse\u001b[39;00m \u001b[38;5;28;01mif\u001b[39;00m observed \u001b[38;5;129;01mis\u001b[39;00m lib\u001b[38;5;241m.\u001b[39mno_default \u001b[38;5;28;01melse\u001b[39;00m observed\n\u001b[1;32m--> 172\u001b[0m grouped \u001b[38;5;241m=\u001b[39m data\u001b[38;5;241m.\u001b[39mgroupby(keys, observed\u001b[38;5;241m=\u001b[39mobserved_bool, sort\u001b[38;5;241m=\u001b[39msort, dropna\u001b[38;5;241m=\u001b[39mdropna)\n\u001b[0;32m    173\u001b[0m \u001b[38;5;28;01mif\u001b[39;00m observed \u001b[38;5;129;01mis\u001b[39;00m lib\u001b[38;5;241m.\u001b[39mno_default \u001b[38;5;129;01mand\u001b[39;00m \u001b[38;5;28many\u001b[39m(\n\u001b[0;32m    174\u001b[0m     ping\u001b[38;5;241m.\u001b[39m_passed_categorical \u001b[38;5;28;01mfor\u001b[39;00m ping \u001b[38;5;129;01min\u001b[39;00m grouped\u001b[38;5;241m.\u001b[39m_grouper\u001b[38;5;241m.\u001b[39mgroupings\n\u001b[0;32m    175\u001b[0m ):\n\u001b[0;32m    176\u001b[0m     warnings\u001b[38;5;241m.\u001b[39mwarn(\n\u001b[0;32m    177\u001b[0m         \u001b[38;5;124m\"\u001b[39m\u001b[38;5;124mThe default value of observed=False is deprecated and will change \u001b[39m\u001b[38;5;124m\"\u001b[39m\n\u001b[0;32m    178\u001b[0m         \u001b[38;5;124m\"\u001b[39m\u001b[38;5;124mto observed=True in a future version of pandas. Specify \u001b[39m\u001b[38;5;124m\"\u001b[39m\n\u001b[1;32m   (...)\u001b[0m\n\u001b[0;32m    181\u001b[0m         stacklevel\u001b[38;5;241m=\u001b[39mfind_stack_level(),\n\u001b[0;32m    182\u001b[0m     )\n",
      "File \u001b[1;32m~\\anaconda3\\Lib\\site-packages\\pandas\\core\\frame.py:9183\u001b[0m, in \u001b[0;36mDataFrame.groupby\u001b[1;34m(self, by, axis, level, as_index, sort, group_keys, observed, dropna)\u001b[0m\n\u001b[0;32m   9180\u001b[0m \u001b[38;5;28;01mif\u001b[39;00m level \u001b[38;5;129;01mis\u001b[39;00m \u001b[38;5;28;01mNone\u001b[39;00m \u001b[38;5;129;01mand\u001b[39;00m by \u001b[38;5;129;01mis\u001b[39;00m \u001b[38;5;28;01mNone\u001b[39;00m:\n\u001b[0;32m   9181\u001b[0m     \u001b[38;5;28;01mraise\u001b[39;00m \u001b[38;5;167;01mTypeError\u001b[39;00m(\u001b[38;5;124m\"\u001b[39m\u001b[38;5;124mYou have to supply one of \u001b[39m\u001b[38;5;124m'\u001b[39m\u001b[38;5;124mby\u001b[39m\u001b[38;5;124m'\u001b[39m\u001b[38;5;124m and \u001b[39m\u001b[38;5;124m'\u001b[39m\u001b[38;5;124mlevel\u001b[39m\u001b[38;5;124m'\u001b[39m\u001b[38;5;124m\"\u001b[39m)\n\u001b[1;32m-> 9183\u001b[0m \u001b[38;5;28;01mreturn\u001b[39;00m DataFrameGroupBy(\n\u001b[0;32m   9184\u001b[0m     obj\u001b[38;5;241m=\u001b[39m\u001b[38;5;28mself\u001b[39m,\n\u001b[0;32m   9185\u001b[0m     keys\u001b[38;5;241m=\u001b[39mby,\n\u001b[0;32m   9186\u001b[0m     axis\u001b[38;5;241m=\u001b[39maxis,\n\u001b[0;32m   9187\u001b[0m     level\u001b[38;5;241m=\u001b[39mlevel,\n\u001b[0;32m   9188\u001b[0m     as_index\u001b[38;5;241m=\u001b[39mas_index,\n\u001b[0;32m   9189\u001b[0m     sort\u001b[38;5;241m=\u001b[39msort,\n\u001b[0;32m   9190\u001b[0m     group_keys\u001b[38;5;241m=\u001b[39mgroup_keys,\n\u001b[0;32m   9191\u001b[0m     observed\u001b[38;5;241m=\u001b[39mobserved,\n\u001b[0;32m   9192\u001b[0m     dropna\u001b[38;5;241m=\u001b[39mdropna,\n\u001b[0;32m   9193\u001b[0m )\n",
      "File \u001b[1;32m~\\anaconda3\\Lib\\site-packages\\pandas\\core\\groupby\\groupby.py:1329\u001b[0m, in \u001b[0;36mGroupBy.__init__\u001b[1;34m(self, obj, keys, axis, level, grouper, exclusions, selection, as_index, sort, group_keys, observed, dropna)\u001b[0m\n\u001b[0;32m   1326\u001b[0m \u001b[38;5;28mself\u001b[39m\u001b[38;5;241m.\u001b[39mdropna \u001b[38;5;241m=\u001b[39m dropna\n\u001b[0;32m   1328\u001b[0m \u001b[38;5;28;01mif\u001b[39;00m grouper \u001b[38;5;129;01mis\u001b[39;00m \u001b[38;5;28;01mNone\u001b[39;00m:\n\u001b[1;32m-> 1329\u001b[0m     grouper, exclusions, obj \u001b[38;5;241m=\u001b[39m get_grouper(\n\u001b[0;32m   1330\u001b[0m         obj,\n\u001b[0;32m   1331\u001b[0m         keys,\n\u001b[0;32m   1332\u001b[0m         axis\u001b[38;5;241m=\u001b[39maxis,\n\u001b[0;32m   1333\u001b[0m         level\u001b[38;5;241m=\u001b[39mlevel,\n\u001b[0;32m   1334\u001b[0m         sort\u001b[38;5;241m=\u001b[39msort,\n\u001b[0;32m   1335\u001b[0m         observed\u001b[38;5;241m=\u001b[39m\u001b[38;5;28;01mFalse\u001b[39;00m \u001b[38;5;28;01mif\u001b[39;00m observed \u001b[38;5;129;01mis\u001b[39;00m lib\u001b[38;5;241m.\u001b[39mno_default \u001b[38;5;28;01melse\u001b[39;00m observed,\n\u001b[0;32m   1336\u001b[0m         dropna\u001b[38;5;241m=\u001b[39m\u001b[38;5;28mself\u001b[39m\u001b[38;5;241m.\u001b[39mdropna,\n\u001b[0;32m   1337\u001b[0m     )\n\u001b[0;32m   1339\u001b[0m \u001b[38;5;28;01mif\u001b[39;00m observed \u001b[38;5;129;01mis\u001b[39;00m lib\u001b[38;5;241m.\u001b[39mno_default:\n\u001b[0;32m   1340\u001b[0m     \u001b[38;5;28;01mif\u001b[39;00m \u001b[38;5;28many\u001b[39m(ping\u001b[38;5;241m.\u001b[39m_passed_categorical \u001b[38;5;28;01mfor\u001b[39;00m ping \u001b[38;5;129;01min\u001b[39;00m grouper\u001b[38;5;241m.\u001b[39mgroupings):\n",
      "File \u001b[1;32m~\\anaconda3\\Lib\\site-packages\\pandas\\core\\groupby\\grouper.py:1043\u001b[0m, in \u001b[0;36mget_grouper\u001b[1;34m(obj, key, axis, level, sort, observed, validate, dropna)\u001b[0m\n\u001b[0;32m   1041\u001b[0m         in_axis, level, gpr \u001b[38;5;241m=\u001b[39m \u001b[38;5;28;01mFalse\u001b[39;00m, gpr, \u001b[38;5;28;01mNone\u001b[39;00m\n\u001b[0;32m   1042\u001b[0m     \u001b[38;5;28;01melse\u001b[39;00m:\n\u001b[1;32m-> 1043\u001b[0m         \u001b[38;5;28;01mraise\u001b[39;00m \u001b[38;5;167;01mKeyError\u001b[39;00m(gpr)\n\u001b[0;32m   1044\u001b[0m \u001b[38;5;28;01melif\u001b[39;00m \u001b[38;5;28misinstance\u001b[39m(gpr, Grouper) \u001b[38;5;129;01mand\u001b[39;00m gpr\u001b[38;5;241m.\u001b[39mkey \u001b[38;5;129;01mis\u001b[39;00m \u001b[38;5;129;01mnot\u001b[39;00m \u001b[38;5;28;01mNone\u001b[39;00m:\n\u001b[0;32m   1045\u001b[0m     \u001b[38;5;66;03m# Add key to exclusions\u001b[39;00m\n\u001b[0;32m   1046\u001b[0m     exclusions\u001b[38;5;241m.\u001b[39madd(gpr\u001b[38;5;241m.\u001b[39mkey)\n",
      "\u001b[1;31mKeyError\u001b[0m: 'Subject'"
     ]
    }
   ],
   "source": [
    "# Pivot table\n",
    "pivot_df = df.pivot_table(values='Score', index='Name', columns='Subject', aggfunc='mean')\n",
    "print(pivot_df)\n"
   ]
  },
  {
   "cell_type": "code",
   "execution_count": 68,
   "id": "1006b52a-48e8-4e25-83b7-1c20c21a4c01",
   "metadata": {},
   "outputs": [
    {
     "name": "stdout",
     "output_type": "stream",
     "text": [
      "      Name Metric  value\n",
      "0    Alice  Score   85.0\n",
      "1      Bob  Score   85.0\n",
      "2  Charlie  Score   78.0\n",
      "3  Unknown  Score   92.0\n"
     ]
    }
   ],
   "source": [
    "# Melt DataFrame\n",
    "melted_df = pd.melt(df, id_vars=['Name'], value_vars=['Score'], var_name='Metric')\n",
    "print(melted_df)"
   ]
  },
  {
   "cell_type": "code",
   "execution_count": 70,
   "id": "a39de923-7aa1-402f-b3bd-3f7353d35d1c",
   "metadata": {},
   "outputs": [
    {
     "name": "stdout",
     "output_type": "stream",
     "text": [
      "            Value\n",
      "2025-01-05   20.0\n"
     ]
    }
   ],
   "source": [
    "# Create time series data\n",
    "dates = pd.date_range('2025-01-01', periods=5, freq='D')\n",
    "data = pd.DataFrame({'Value': [10, 20, 15, 25, 30]}, index=dates)\n",
    "# Resample to weekly mean\n",
    "weekly = data.resample('W').mean()\n",
    "print(weekly)"
   ]
  },
  {
   "cell_type": "code",
   "execution_count": 72,
   "id": "00908126-de8f-436a-a750-81dca26d4e9c",
   "metadata": {},
   "outputs": [
    {
     "name": "stdout",
     "output_type": "stream",
     "text": [
      "      Name  Score           Category\n",
      "0    Alice   85.0               Good\n",
      "1      Bob   85.0               Good\n",
      "2  Charlie   78.0  Needs Improvement\n",
      "3  Unknown   92.0          Excellent\n"
     ]
    }
   ],
   "source": [
    "# Categorize scores\n",
    "def categorize_score(score):\n",
    "    if score >= 90:\n",
    "        return 'Excellent'\n",
    "    elif score >= 80:\n",
    "        return 'Good'\n",
    "    else:\n",
    "        return 'Needs Improvement'\n",
    "df['Category'] = df['Score'].apply(categorize_score)\n",
    "print(df)"
   ]
  },
  {
   "cell_type": "code",
   "execution_count": 33,
   "id": "f7a535b3-30c2-4196-9e34-f6bc949ee947",
   "metadata": {},
   "outputs": [
    {
     "name": "stdout",
     "output_type": "stream",
     "text": [
      "    Student_ID First_Name Last_Name                       Email  Gender  \\\n",
      "0        S3776      Ahmed  Williams  student2776@university.com  Female   \n",
      "1        S2990      Maria     Brown  student1990@university.com  Female   \n",
      "2        S1131      Ahmed   Johnson   student131@university.com  Female   \n",
      "3        S5267      Maria     Brown  student4267@university.com    Male   \n",
      "4        S2458       Emma   Johnson  student1458@university.com  Female   \n",
      "..         ...        ...       ...                         ...     ...   \n",
      "995      S5627       Emma     Davis  student4627@university.com  Female   \n",
      "996      S2502       Emma     Jones  student1502@university.com  Female   \n",
      "997      S1145       Omar   Johnson   student145@university.com    Male   \n",
      "998      S1632      Ahmed   Johnson   student632@university.com  Female   \n",
      "999      S1390       John     Smith   student390@university.com    Male   \n",
      "\n",
      "           Age   Department  Attendance (%)  Midterm_Score  Final_Score  ...  \\\n",
      "0    22.045035           CS       74.048106      85.108839    51.617728  ...   \n",
      "1    23.629150           CS       92.511784      75.947161    40.502862  ...   \n",
      "2    22.506026           CS      108.096000      48.073458    48.805808  ...   \n",
      "3    21.467511           CS       49.562663      45.299800    77.905403  ...   \n",
      "4    22.919975           CS       84.591690      89.441995    73.063405  ...   \n",
      "..         ...          ...             ...            ...          ...  ...   \n",
      "995  23.814906  Engineering       78.188876      67.376871    38.644241  ...   \n",
      "996  21.557628     Business       55.150999      62.058483    58.357880  ...   \n",
      "997  21.631017  Mathematics       53.820910      58.333701    95.746380  ...   \n",
      "998  19.420526  Engineering       87.838525      48.988729    79.506127  ...   \n",
      "999  24.328379           CS       81.749545      90.491485    40.881088  ...   \n",
      "\n",
      "     Projects_Score  Total_Score  Grade  Study_Hours_per_Week  \\\n",
      "0        100.895718    52.343428      C              6.724337   \n",
      "1         84.305866    89.013178      C             28.035910   \n",
      "2         75.641844   105.085978      A             14.423544   \n",
      "3         57.838081    95.268142      C             12.967853   \n",
      "4         48.668896    51.845698      A             26.522400   \n",
      "..              ...          ...    ...                   ...   \n",
      "995       77.810359    81.878959      A             26.664545   \n",
      "996       60.545186    69.295508      C             27.905180   \n",
      "997       81.888635    81.017607      F              6.880625   \n",
      "998       70.291425    52.342734      C             16.258495   \n",
      "999       82.710572    92.965223      B             23.762379   \n",
      "\n",
      "     Extracurricular_Activities Internet_Access_at_Home  \\\n",
      "0                            No                     Yes   \n",
      "1                            No                     Yes   \n",
      "2                            No                     Yes   \n",
      "3                            No                     Yes   \n",
      "4                            No                      No   \n",
      "..                          ...                     ...   \n",
      "995                          No                     Yes   \n",
      "996                          No                     Yes   \n",
      "997                          No                     Yes   \n",
      "998                         Yes                     Yes   \n",
      "999                          No                     Yes   \n",
      "\n",
      "     Parent_Education_Level Family_Income_Level Stress_Level (1-10)  \\\n",
      "0                       PhD                 Low            4.055678   \n",
      "1                       NaN                High            6.321155   \n",
      "2                       PhD                High            3.978794   \n",
      "3                Bachelor's              Medium            4.708576   \n",
      "4                       NaN                High            8.135042   \n",
      "..                      ...                 ...                 ...   \n",
      "995              Bachelor's              Medium            8.265821   \n",
      "996             High School                 Low            6.371639   \n",
      "997                     NaN                 Low            4.530651   \n",
      "998                       0                High            9.152319   \n",
      "999             High School                 Low            3.614852   \n",
      "\n",
      "    Sleep_Hours_per_Night  \n",
      "0                5.793378  \n",
      "1                8.085410  \n",
      "2                8.332964  \n",
      "3                4.445199  \n",
      "4                5.154970  \n",
      "..                    ...  \n",
      "995              7.286875  \n",
      "996              4.462750  \n",
      "997              5.785898  \n",
      "998              9.612580  \n",
      "999              6.000259  \n",
      "\n",
      "[1000 rows x 23 columns]\n"
     ]
    }
   ],
   "source": [
    "# Load CSV\n",
    "df = pd.read_csv('Students Dataset.csv')\n",
    "print(df.head(1000))  # First 1000 rows\n"
   ]
  },
  {
   "cell_type": "code",
   "execution_count": 40,
   "id": "0d40d471-e0db-49d2-b5fb-fe5b1152745c",
   "metadata": {},
   "outputs": [
    {
     "name": "stdout",
     "output_type": "stream",
     "text": [
      "    Name  Score\n",
      "0  False  False\n",
      "1  False   True\n",
      "2  False  False\n",
      "3   True  False\n"
     ]
    }
   ],
   "source": [
    "# Create DataFrame with missing values\n",
    "data = {\n",
    "    'Name': ['Alice', 'Bob', 'Charlie', None],\n",
    "    'Score': [85, None, 78, 92]\n",
    "}\n",
    "df = pd.DataFrame(data)\n",
    "# Check for missing values\n",
    "print(df.isna())\n",
    "# Fill missing values\n",
    "df['Score'] = df['Score'].fillna(df['Score'].mean())\n",
    "df['Name'] = df['Name'].fillna('Unknown')\n",
    "# Drop rows with missing values\n",
    "df_dropped = df.dropna()"
   ]
  },
  {
   "cell_type": "code",
   "execution_count": 15,
   "id": "6e91ba86-07d4-4a69-bb1c-50a8dc0e8e45",
   "metadata": {},
   "outputs": [
    {
     "name": "stdout",
     "output_type": "stream",
     "text": [
      "<class 'pandas.core.frame.DataFrame'>\n",
      "RangeIndex: 1000 entries, 0 to 999\n",
      "Data columns (total 23 columns):\n",
      " #   Column                      Non-Null Count  Dtype  \n",
      "---  ------                      --------------  -----  \n",
      " 0   Student_ID                  1000 non-null   object \n",
      " 1   First_Name                  1000 non-null   object \n",
      " 2   Last_Name                   1000 non-null   object \n",
      " 3   Email                       1000 non-null   object \n",
      " 4   Gender                      1000 non-null   object \n",
      " 5   Age                         1000 non-null   float64\n",
      " 6   Department                  1000 non-null   object \n",
      " 7   Attendance (%)              1000 non-null   float64\n",
      " 8   Midterm_Score               1000 non-null   float64\n",
      " 9   Final_Score                 1000 non-null   float64\n",
      " 10  Assignments_Avg             1000 non-null   float64\n",
      " 11  Quizzes_Avg                 1000 non-null   float64\n",
      " 12  Participation_Score         1000 non-null   float64\n",
      " 13  Projects_Score              1000 non-null   float64\n",
      " 14  Total_Score                 1000 non-null   float64\n",
      " 15  Grade                       1000 non-null   object \n",
      " 16  Study_Hours_per_Week        1000 non-null   float64\n",
      " 17  Extracurricular_Activities  1000 non-null   object \n",
      " 18  Internet_Access_at_Home     1000 non-null   object \n",
      " 19  Parent_Education_Level      840 non-null    object \n",
      " 20  Family_Income_Level         1000 non-null   object \n",
      " 21  Stress_Level (1-10)         1000 non-null   float64\n",
      " 22  Sleep_Hours_per_Night       1000 non-null   float64\n",
      "dtypes: float64(12), object(11)\n",
      "memory usage: 179.8+ KB\n",
      "None\n"
     ]
    }
   ],
   "source": [
    "print(df.info())  # Data types and missing values\n"
   ]
  },
  {
   "cell_type": "code",
   "execution_count": 17,
   "id": "f0238246-dfca-4c6a-9c45-5c3bda6ae97e",
   "metadata": {},
   "outputs": [
    {
     "name": "stdout",
     "output_type": "stream",
     "text": [
      "               Age  Attendance (%)  Midterm_Score  Final_Score  \\\n",
      "count  1000.000000     1000.000000    1000.000000  1000.000000   \n",
      "mean     21.066634       68.061064      71.043648    69.296683   \n",
      "std       2.311069       27.809824      17.350306    17.953780   \n",
      "min      16.206210        0.000000      36.833650    36.745235   \n",
      "25%      19.316787       59.161689      56.760185    54.255031   \n",
      "50%      20.993244       73.283685      71.263025    69.131524   \n",
      "75%      22.718634       87.093181      85.061684    83.092263   \n",
      "max      26.380494      108.730516     108.914349   108.508363   \n",
      "\n",
      "       Assignments_Avg  Quizzes_Avg  Participation_Score  Projects_Score  \\\n",
      "count      1000.000000  1000.000000          1000.000000     1000.000000   \n",
      "mean         66.806472    75.394758             4.988787       75.023214   \n",
      "std          26.825467    15.143672             2.882270       14.993117   \n",
      "min           0.000000    46.120694             0.009666       46.580692   \n",
      "25%          56.898954    63.117339             2.529348       62.557398   \n",
      "50%          71.459769    74.687763             4.995392       74.906849   \n",
      "75%          85.610370    87.971794             7.430412       86.938850   \n",
      "max         108.790146   107.377201            10.850055      109.193763   \n",
      "\n",
      "       Total_Score  Study_Hours_per_Week  Stress_Level (1-10)  \\\n",
      "count  1000.000000           1000.000000          1000.000000   \n",
      "mean     74.558647             17.310851             5.514646   \n",
      "std      15.212380              7.353841             2.871097   \n",
      "min      45.577987              4.546314             0.900460   \n",
      "25%      61.366935             11.118616             3.045848   \n",
      "50%      74.218609             17.088207             5.428400   \n",
      "75%      86.732900             23.473013             8.123593   \n",
      "max     109.287613             31.911465            10.929739   \n",
      "\n",
      "       Sleep_Hours_per_Night  \n",
      "count            1000.000000  \n",
      "mean                6.491693  \n",
      "std                 1.500479  \n",
      "min                 3.736038  \n",
      "25%                 5.296159  \n",
      "50%                 6.377495  \n",
      "75%                 7.722043  \n",
      "max                 9.810636  \n"
     ]
    }
   ],
   "source": [
    "print(df.describe())  # Summary statistics"
   ]
  },
  {
   "cell_type": "code",
   "execution_count": 23,
   "id": "8f40fb8d-53a4-4059-a407-fc62506fe64e",
   "metadata": {},
   "outputs": [
    {
     "name": "stdout",
     "output_type": "stream",
     "text": [
      "0      22.045035\n",
      "1      23.629150\n",
      "2      22.506026\n",
      "3      21.467511\n",
      "4      22.919975\n",
      "         ...    \n",
      "995    23.814906\n",
      "996    21.557628\n",
      "997    21.631017\n",
      "998    19.420526\n",
      "999    24.328379\n",
      "Name: Age, Length: 1000, dtype: float64\n"
     ]
    }
   ],
   "source": [
    "age = df['Age']\n",
    "print(age)"
   ]
  },
  {
   "cell_type": "code",
   "execution_count": 27,
   "id": "9ddec316-7c4f-4406-b366-c67b322e673e",
   "metadata": {},
   "outputs": [],
   "source": [
    "sorted_df = df.sort_values('Age', ascending=False)"
   ]
  },
  {
   "cell_type": "code",
   "execution_count": 29,
   "id": "1d6c5d77-0e28-440f-ae29-c952b8aa9d3c",
   "metadata": {},
   "outputs": [
    {
     "name": "stdout",
     "output_type": "stream",
     "text": [
      "    Student_ID First_Name Last_Name                       Email  Gender  \\\n",
      "122      S4817       Liam     Jones  student3817@university.com    Male   \n",
      "129      S2339       Emma     Jones  student1339@university.com    Male   \n",
      "245      S1546      Ahmed     Smith   student546@university.com  Female   \n",
      "616      S4577       Omar     Smith  student3577@university.com  Female   \n",
      "519      S3119       Liam     Jones  student2119@university.com    Male   \n",
      "..         ...        ...       ...                         ...     ...   \n",
      "161      S3552        Ali     Smith  student2552@university.com    Male   \n",
      "559      S1252      Maria     Jones   student252@university.com  Female   \n",
      "557      S4434       Liam     Davis  student3434@university.com    Male   \n",
      "807      S4498       Sara     Smith  student3498@university.com  Female   \n",
      "818      S3172      Ahmed     Jones  student2172@university.com  Female   \n",
      "\n",
      "           Age   Department  Attendance (%)  Midterm_Score  Final_Score  ...  \\\n",
      "122  26.380494           CS       82.020231      75.468610    45.144231  ...   \n",
      "129  26.358673  Mathematics       55.476705      87.754873    87.523627  ...   \n",
      "245  26.311049           CS        0.000000      56.358866    54.575278  ...   \n",
      "616  26.309751     Business       56.093729      90.736952    77.143111  ...   \n",
      "519  26.236920  Engineering       88.287531      90.017650   103.764806  ...   \n",
      "..         ...          ...             ...            ...          ...  ...   \n",
      "161  16.310188  Engineering       61.431259      80.895412    76.558756  ...   \n",
      "559  16.276539  Engineering       48.997366      63.614639    82.034875  ...   \n",
      "557  16.246757           CS      100.835570      47.385807    65.602037  ...   \n",
      "807  16.244765           CS       80.449510      70.416962    75.220428  ...   \n",
      "818  16.206210  Engineering       75.519881      66.081997    73.052000  ...   \n",
      "\n",
      "     Projects_Score  Total_Score  Grade  Study_Hours_per_Week  \\\n",
      "122       76.556261    81.630920      B             28.172382   \n",
      "129       90.253218    89.680012      D              4.546314   \n",
      "245       77.861564    82.764253      B             19.210393   \n",
      "616       57.664108    57.163173      D             19.680752   \n",
      "519       57.960475    64.148727      B             12.702363   \n",
      "..              ...          ...    ...                   ...   \n",
      "161      101.745136    77.562634      C              8.551208   \n",
      "559       49.252026    73.814307      C             19.533244   \n",
      "557       63.768174    67.098722      A              6.996374   \n",
      "807       91.167405    61.684749      A              8.152021   \n",
      "818       93.506002    92.096525      F             27.505990   \n",
      "\n",
      "     Extracurricular_Activities Internet_Access_at_Home  \\\n",
      "122                          No                     Yes   \n",
      "129                          No                     Yes   \n",
      "245                          No                      No   \n",
      "616                          No                     Yes   \n",
      "519                          No                      No   \n",
      "..                          ...                     ...   \n",
      "161                          No                     Yes   \n",
      "559                          No                     Yes   \n",
      "557                         Yes                      No   \n",
      "807                         Yes                     Yes   \n",
      "818                          No                     Yes   \n",
      "\n",
      "     Parent_Education_Level Family_Income_Level Stress_Level (1-10)  \\\n",
      "122              Bachelor's                 Low            9.754979   \n",
      "129                     PhD              Medium            4.283441   \n",
      "245                       0                High            1.019574   \n",
      "616                Master's                High            3.185278   \n",
      "519                     PhD                High            3.766087   \n",
      "..                      ...                 ...                 ...   \n",
      "161              Bachelor's              Medium            6.070652   \n",
      "559              Bachelor's              Medium            6.864665   \n",
      "557              Bachelor's              Medium            2.915722   \n",
      "807              Bachelor's              Medium            2.804927   \n",
      "818                     PhD                 Low            2.775958   \n",
      "\n",
      "    Sleep_Hours_per_Night  \n",
      "122              5.754510  \n",
      "129              4.532435  \n",
      "245              6.763283  \n",
      "616              7.021440  \n",
      "519              4.612329  \n",
      "..                    ...  \n",
      "161              9.395292  \n",
      "559              5.575776  \n",
      "557              5.040644  \n",
      "807              8.268832  \n",
      "818              7.904457  \n",
      "\n",
      "[1000 rows x 23 columns]\n"
     ]
    }
   ],
   "source": [
    "print(sorted_df)"
   ]
  },
  {
   "cell_type": "code",
   "execution_count": null,
   "id": "0576b24e-64bf-4170-bc79-f5449b3dabf1",
   "metadata": {},
   "outputs": [],
   "source": []
  }
 ],
 "metadata": {
  "kernelspec": {
   "display_name": "Python [conda env:base] *",
   "language": "python",
   "name": "conda-base-py"
  },
  "language_info": {
   "codemirror_mode": {
    "name": "ipython",
    "version": 3
   },
   "file_extension": ".py",
   "mimetype": "text/x-python",
   "name": "python",
   "nbconvert_exporter": "python",
   "pygments_lexer": "ipython3",
   "version": "3.12.7"
  }
 },
 "nbformat": 4,
 "nbformat_minor": 5
}
