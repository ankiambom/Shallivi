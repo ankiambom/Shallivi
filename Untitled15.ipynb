{
 "cells": [
  {
   "cell_type": "code",
   "execution_count": 2,
   "id": "ada70d91-09bc-405d-bbb6-3a2e3933e2c5",
   "metadata": {},
   "outputs": [
    {
     "name": "stdout",
     "output_type": "stream",
     "text": [
      "Scores DataFrame:\n",
      "   Student  Score\n",
      "0    Alice     88\n",
      "1      Bob     92\n",
      "2  Charlie     79\n",
      "3    Diana     85\n",
      "\n",
      "Departments DataFrame:\n",
      "   Student Department\n",
      "0    Alice       Math\n",
      "1      Bob    Physics\n",
      "2  Charlie       Math\n",
      "3    Diana    Physics\n"
     ]
    }
   ],
   "source": [
    "import pandas as pd\n",
    "\n",
    "# DataFrame 1: Students and their Scores\n",
    "df_scores = pd.DataFrame({\n",
    "    'Student': ['Alice', 'Bob', 'Charlie', 'Diana'],\n",
    "    'Score': [88, 92, 79, 85]\n",
    "})\n",
    "\n",
    "# DataFrame 2: Students and their Departments\n",
    "df_departments = pd.DataFrame({\n",
    "    'Student': ['Alice', 'Bob', 'Charlie', 'Diana'],\n",
    "    'Department': ['Math', 'Physics', 'Math', 'Physics']\n",
    "})\n",
    "\n",
    "print(\"Scores DataFrame:\")\n",
    "print(df_scores)\n",
    "\n",
    "print(\"\\nDepartments DataFrame:\")\n",
    "print(df_departments)"
   ]
  },
  {
   "cell_type": "code",
   "execution_count": 8,
   "id": "7b6f871f-d50c-4c24-b06e-0b29fa3d6e05",
   "metadata": {},
   "outputs": [
    {
     "name": "stdout",
     "output_type": "stream",
     "text": [
      "   Student  Score Department  Above_Dept_Avg\n",
      "0    Alice     88       Math            True\n",
      "1      Bob     92    Physics            True\n",
      "2  Charlie     79       Math           False\n",
      "3    Diana     85    Physics           False\n"
     ]
    }
   ],
   "source": [
    "\n",
    "\n",
    "# Sample DataFrames\n",
    "df_scores = pd.DataFrame({\n",
    "    'Student': ['Alice', 'Bob', 'Charlie', 'Diana'],\n",
    "    'Score': [88, 92, 79, 85]\n",
    "})\n",
    "\n",
    "df_departments = pd.DataFrame({\n",
    "    'Student': ['Alice', 'Bob', 'Charlie', 'Diana'],\n",
    "    'Department': ['Math', 'Physics', 'Math', 'Physics']\n",
    "})\n",
    "\n",
    "# Merge DataFrames on Student (inner merge for this example)\n",
    "merged_df = pd.merge(df_scores, df_departments, on='Student', how='inner')\n",
    "\n",
    "# Calculate average score per department\n",
    "dept_avg = merged_df.groupby('Department')['Score'].transform('mean')\n",
    "\n",
    "# Create a new column to check if the student's score is above the department average\n",
    "merged_df['Above_Dept_Avg'] = merged_df['Score'] > dept_avg\n",
    "\n",
    "print(merged_df)\n"
   ]
  },
  {
   "cell_type": "code",
   "execution_count": 10,
   "id": "ae04e901-e6e9-44e9-9f4a-f3cbf4781b39",
   "metadata": {},
   "outputs": [
    {
     "name": "stdout",
     "output_type": "stream",
     "text": [
      "Inner Merge on 'Name':\n",
      "      Name  Score Department\n",
      "0    Alice     88       Math\n",
      "1      Bob     92    Physics\n",
      "2  Charlie     79       Math\n",
      "3    Diana     85    Physics\n",
      "\n",
      "Left Merge on 'Name':\n",
      "      Name  Score Department\n",
      "0    Alice     88       Math\n",
      "1      Bob     92    Physics\n",
      "2  Charlie     79       Math\n",
      "3    Diana     85    Physics\n"
     ]
    }
   ],
   "source": [
    "\n",
    "\n",
    "# Original DataFrames\n",
    "df_scores = pd.DataFrame({\n",
    "    'Student': ['Alice', 'Bob', 'Charlie', 'Diana'],\n",
    "    'Score': [88, 92, 79, 85]\n",
    "})\n",
    "\n",
    "df_departments = pd.DataFrame({\n",
    "    'Student': ['Alice', 'Bob', 'Charlie', 'Diana'],\n",
    "    'Department': ['Math', 'Physics', 'Math', 'Physics']\n",
    "})\n",
    "\n",
    "# Rename 'Student' to 'Name' in both DataFrames\n",
    "df_scores.rename(columns={'Student': 'Name'}, inplace=True)\n",
    "df_departments.rename(columns={'Student': 'Name'}, inplace=True)\n",
    "\n",
    "# Inner merge on 'Name'\n",
    "inner_merged = pd.merge(df_scores, df_departments, on='Name', how='inner')\n",
    "\n",
    "# Left merge on 'Name'\n",
    "left_merged = pd.merge(df_scores, df_departments, on='Name', how='left')\n",
    "\n",
    "print(\"Inner Merge on 'Name':\")\n",
    "print(inner_merged)\n",
    "\n",
    "print(\"\\nLeft Merge on 'Name':\")\n",
    "print(left_merged)\n"
   ]
  },
  {
   "cell_type": "code",
   "execution_count": null,
   "id": "a0183690-268d-4fc3-b103-82140454a807",
   "metadata": {},
   "outputs": [],
   "source": []
  }
 ],
 "metadata": {
  "kernelspec": {
   "display_name": "Python [conda env:base] *",
   "language": "python",
   "name": "conda-base-py"
  },
  "language_info": {
   "codemirror_mode": {
    "name": "ipython",
    "version": 3
   },
   "file_extension": ".py",
   "mimetype": "text/x-python",
   "name": "python",
   "nbconvert_exporter": "python",
   "pygments_lexer": "ipython3",
   "version": "3.12.7"
  }
 },
 "nbformat": 4,
 "nbformat_minor": 5
}
